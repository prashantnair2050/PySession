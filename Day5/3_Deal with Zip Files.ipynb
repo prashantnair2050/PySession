{
 "cells": [
  {
   "cell_type": "code",
   "execution_count": 1,
   "id": "01776007-65b1-473c-b491-1611f91fc7d4",
   "metadata": {},
   "outputs": [],
   "source": [
    "# Working with Zip Files\n",
    "# Built-in module which needs to be imported ---------- zipfile\n",
    "\n",
    "import zipfile"
   ]
  },
  {
   "cell_type": "code",
   "execution_count": 2,
   "id": "427de55b-3d22-4c25-ad9d-f90750ecbb6d",
   "metadata": {},
   "outputs": [],
   "source": [
    "# Writing the zip file\n",
    "\n",
    "with zipfile.ZipFile('test.zip','w') as z:\n",
    "    z.write('output.csv')\n",
    "    z.write('output2.csv')"
   ]
  },
  {
   "cell_type": "code",
   "execution_count": 3,
   "id": "59cefd4c-cd31-4f87-a0a6-b273131d92e3",
   "metadata": {},
   "outputs": [
    {
     "name": "stdout",
     "output_type": "stream",
     "text": [
      "File Name                                             Modified             Size\n",
      "output.csv                                     2024-02-13 09:56:08           68\n",
      "output2.csv                                    2024-02-13 10:03:22           68\n"
     ]
    }
   ],
   "source": [
    "# Reading a zip file\n",
    "\n",
    "with zipfile.ZipFile('test.zip','r') as z:\n",
    "    z.printdir()"
   ]
  },
  {
   "cell_type": "code",
   "execution_count": 4,
   "id": "4e0effe8-0319-4cc2-b077-3f0890a507d7",
   "metadata": {},
   "outputs": [],
   "source": [
    "#Extracting files in current working directory\n",
    "\n",
    "with zipfile.ZipFile('test.zip','r') as z:\n",
    "    z.extractall()"
   ]
  },
  {
   "cell_type": "code",
   "execution_count": 5,
   "id": "226e89ed-6bcb-4eb1-9b9a-64f2c0cb5eb2",
   "metadata": {},
   "outputs": [],
   "source": [
    "#Extract files in a specified folder\n",
    "\n",
    "with zipfile.ZipFile('test.zip','r') as z:\n",
    "    z.extractall('testFolder')"
   ]
  },
  {
   "cell_type": "code",
   "execution_count": 7,
   "id": "ea67fec1-1e75-4339-bf96-aef79a67c89a",
   "metadata": {},
   "outputs": [],
   "source": [
    "#Extract any specific file --- extract\n",
    "\n",
    "with zipfile.ZipFile('test.zip','r') as z:\n",
    "    z.extract('output.csv','testFolder2')"
   ]
  },
  {
   "cell_type": "code",
   "execution_count": null,
   "id": "3766bcef-cba7-44fc-b691-ff1b8d49ac6d",
   "metadata": {},
   "outputs": [],
   "source": []
  }
 ],
 "metadata": {
  "kernelspec": {
   "display_name": "Python 3 [3.10]",
   "language": "python",
   "name": "python3"
  },
  "language_info": {
   "codemirror_mode": {
    "name": "ipython",
    "version": 3
   },
   "file_extension": ".py",
   "mimetype": "text/x-python",
   "name": "python",
   "nbconvert_exporter": "python",
   "pygments_lexer": "ipython3",
   "version": "3.10.2"
  }
 },
 "nbformat": 4,
 "nbformat_minor": 5
}
