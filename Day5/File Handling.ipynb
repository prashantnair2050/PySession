{
 "cells": [
  {
   "cell_type": "code",
   "execution_count": 1,
   "id": "a366daa0-c1d5-4897-8d97-f757c83b3d6b",
   "metadata": {},
   "outputs": [],
   "source": [
    "# File Handling\n",
    "# 1. Read the file\n",
    "# 2. Write data to a file\n",
    "# 3. Using with"
   ]
  },
  {
   "cell_type": "code",
   "execution_count": 2,
   "id": "afec735b-8f15-4517-8ad3-795ca394336a",
   "metadata": {},
   "outputs": [],
   "source": [
    "# Open and Close files using Python\n",
    "# built-in library for handling files --------------- open()"
   ]
  },
  {
   "cell_type": "code",
   "execution_count": 3,
   "id": "918d2aef-bcbd-4f64-ba70-e0a1e23f75f8",
   "metadata": {},
   "outputs": [],
   "source": [
    "#Syntax \n",
    "# open(fileLocation,mode)\n",
    "#\n",
    "# r ----- reading\n",
    "# w ----- writing\n",
    "# a ----- appending\n",
    "# r+ ---- Reading and writing\n",
    "\n",
    "#Opening the file\n",
    "f = open('sampleDataset.txt','r') \n",
    "#Closing the file (committing data into the file)\n",
    "f.close()"
   ]
  },
  {
   "cell_type": "code",
   "execution_count": 4,
   "id": "15917212-0f07-4988-af06-3c8ca7f7382e",
   "metadata": {},
   "outputs": [
    {
     "name": "stdout",
     "output_type": "stream",
     "text": [
      "This is a sample file\n",
      "Welcome to Python \n",
      "We are learning file handling\n"
     ]
    }
   ],
   "source": [
    "# Reading a file\n",
    "#There are many methods to read a file\n",
    "# a. read(size) : Reads upto 'size' bytes/characters from the file. Without size, it will read the\n",
    "#                 entire file\n",
    "\n",
    "with open('sampleDataset.txt','r') as f:\n",
    "    content = f.read()\n",
    "    print(content)"
   ]
  },
  {
   "cell_type": "code",
   "execution_count": 5,
   "id": "5d8f534b-60da-4fc4-8652-7473cd9123b5",
   "metadata": {},
   "outputs": [
    {
     "name": "stdout",
     "output_type": "stream",
     "text": [
      "This is a sample file\n",
      "\n",
      "Welcome to Python \n",
      "\n",
      "We are learning file handling\n"
     ]
    }
   ],
   "source": [
    "#Read data line by line\n",
    "with open('sampleDataset.txt','r') as f:\n",
    "    for line in f:\n",
    "        print(line)"
   ]
  },
  {
   "cell_type": "code",
   "execution_count": 6,
   "id": "c1fc1fbf-7e26-48cf-a8dc-faa6eaa2edcd",
   "metadata": {},
   "outputs": [],
   "source": [
    "# Writing to Files\n",
    "\n",
    "#Write a file\n",
    "with open(\"newfile.txt\",\"w\") as f:\n",
    "    f.write(\"Hello Everyone\")"
   ]
  },
  {
   "cell_type": "code",
   "execution_count": 7,
   "id": "2b4733e7-6b7a-4ebe-b8e3-35f86c45c73a",
   "metadata": {},
   "outputs": [],
   "source": [
    "f.close()"
   ]
  },
  {
   "cell_type": "code",
   "execution_count": 9,
   "id": "0a1d9520-3eb8-42e9-b534-d1ed3b123ad5",
   "metadata": {},
   "outputs": [],
   "source": [
    "# In memory dataset e.g. list object\n",
    "\n",
    "list1 = [\"Welcome to Python\\n\",\"We are learning File Handling\\n\"]\n",
    "\n",
    "with open(\"multiline.txt\",'w') as f:\n",
    "    f.writelines(list1)"
   ]
  },
  {
   "cell_type": "code",
   "execution_count": 10,
   "id": "3820275f-5000-4ac0-8eda-f68b17f91a7e",
   "metadata": {},
   "outputs": [],
   "source": [
    "list1 = [\"Welcome to Python\\n\",\"We are learning File Handling\\n\"]\n",
    "\n",
    "with open(\"multiline.txt\",'a') as f:\n",
    "    f.writelines(list1)"
   ]
  },
  {
   "cell_type": "code",
   "execution_count": null,
   "id": "d437c214-473c-4112-aa69-02ae894bb822",
   "metadata": {},
   "outputs": [],
   "source": [
    "#Load a Binary File\n",
    "# Mode 'b' whenever you are dealing with Binary objects (BLOBS) \n",
    "#e.g. Images, videos, binary data etc\n",
    "\n",
    "with open('A_boy_and_a_dog.jpg','rb'):\n",
    "    content = f.read()"
   ]
  },
  {
   "cell_type": "code",
   "execution_count": null,
   "id": "7becde58-8499-4116-a4d9-98a47ddf8923",
   "metadata": {},
   "outputs": [],
   "source": []
  }
 ],
 "metadata": {
  "kernelspec": {
   "display_name": "Python 3 [3.10]",
   "language": "python",
   "name": "python3"
  },
  "language_info": {
   "codemirror_mode": {
    "name": "ipython",
    "version": 3
   },
   "file_extension": ".py",
   "mimetype": "text/x-python",
   "name": "python",
   "nbconvert_exporter": "python",
   "pygments_lexer": "ipython3",
   "version": "3.10.2"
  }
 },
 "nbformat": 4,
 "nbformat_minor": 5
}
