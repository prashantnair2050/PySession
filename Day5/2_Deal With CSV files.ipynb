{
 "cells": [
  {
   "cell_type": "code",
   "execution_count": 1,
   "id": "2f74e9cd-92c0-4e7d-9a4a-1db1e46fadae",
   "metadata": {},
   "outputs": [],
   "source": [
    "# Standard function in Python to deal with CSV files\n",
    "# csv()"
   ]
  },
  {
   "cell_type": "code",
   "execution_count": 3,
   "id": "e02ef7ef-40f2-4f1b-b09a-06e3d3f35fd7",
   "metadata": {},
   "outputs": [],
   "source": [
    "# Writing a csv file\n",
    "import csv\n",
    "\n",
    "rows = [\n",
    "    ['Name','Salary','Location'],\n",
    "    ['Prashant',90000,'Mumbai'],\n",
    "    ['Arun',9999,'Chennai']\n",
    "]\n",
    "\n",
    "with open('demo.csv', mode ='w', newline='') as f:\n",
    "    writer = csv.writer(f)\n",
    "    writer.writerows(rows)"
   ]
  },
  {
   "cell_type": "code",
   "execution_count": 4,
   "id": "cd460c4f-b6ff-4c6a-acf0-7a3c155a4f11",
   "metadata": {},
   "outputs": [
    {
     "name": "stdout",
     "output_type": "stream",
     "text": [
      "['Name', 'Salary', 'Location']\n",
      "['Prashant', '90000', 'Mumbai']\n",
      "['Arun', '9999', 'Chennai']\n"
     ]
    }
   ],
   "source": [
    "#Reading a CSV file\n",
    "\n",
    "#Basic Method\n",
    "\n",
    "import csv\n",
    "\n",
    "with open(\"demo.csv\",mode=\"r\",newline='') as f:\n",
    "    reader = csv.reader(f)\n",
    "    for row in reader:\n",
    "        print(row)"
   ]
  },
  {
   "cell_type": "code",
   "execution_count": 5,
   "id": "66c3ffb2-57df-4b26-ae46-2dec0cd6383b",
   "metadata": {},
   "outputs": [
    {
     "name": "stdout",
     "output_type": "stream",
     "text": [
      "Header is ['Name', 'Salary', 'Location']\n",
      "['Prashant', '90000', 'Mumbai']\n",
      "['Arun', '9999', 'Chennai']\n"
     ]
    }
   ],
   "source": [
    "# Logically seperate header and data\n",
    "# Assuming my header is the first record in my file\n",
    "\n",
    "# next --- Increment the read cursor\n",
    "\n",
    "import csv\n",
    "\n",
    "with open(\"demo.csv\",mode=\"r\",newline='') as f:\n",
    "    reader = csv.reader(f)\n",
    "    header = next(reader)\n",
    "    print(\"Header is {}\".format(header))\n",
    "    for row in reader:\n",
    "        print(row)"
   ]
  },
  {
   "cell_type": "code",
   "execution_count": 6,
   "id": "60091270-35a5-473e-921d-aa3289141f37",
   "metadata": {},
   "outputs": [
    {
     "name": "stdout",
     "output_type": "stream",
     "text": [
      "{'Name': 'Prashant', 'Salary': '90000', 'Location': 'Mumbai'}\n",
      "{'Name': 'Arun', 'Salary': '9999', 'Location': 'Chennai'}\n"
     ]
    }
   ],
   "source": [
    "# Read and Write data with Dictionary\n",
    "\n",
    "#Pro-tip--- If csv file has header, it is recommended to read the data in the form of dictionary\n",
    "\n",
    "# Read\n",
    "\n",
    "with open(\"demo.csv\", mode='r',newline='') as f:\n",
    "    reader=csv.DictReader(f)\n",
    "    for record in reader:\n",
    "        print(record)"
   ]
  },
  {
   "cell_type": "code",
   "execution_count": 7,
   "id": "640e262c-2e74-47df-a665-6c956610a18d",
   "metadata": {},
   "outputs": [],
   "source": [
    "# Write\n",
    "\n",
    "with open(\"output.csv\", mode='w',newline='') as f:\n",
    "    header = [\"fname\",\"lname\",\"age\",\"department\"]\n",
    "    writer = csv.DictWriter(f , fieldnames=header)\n",
    "    \n",
    "    writer.writeheader() #Write the header in the file\n",
    "    \n",
    "    writer.writerow({\"fname\":\"Prashant\",\"lname\":\"N\",\"age\":40,\"department\":\"Operations\"})\n",
    "    writer.writerow({\"fname\":\"Arun\",\"lname\":\"N\",\"age\":30,\"department\":\"HR\"})\n",
    "    \n",
    "    "
   ]
  },
  {
   "cell_type": "code",
   "execution_count": 8,
   "id": "38e71a8e-82b6-4d68-8554-018e3dd04223",
   "metadata": {},
   "outputs": [],
   "source": [
    "# Deal with Delimiters\n",
    "# The character responsible to seperate each column data\n",
    "# CSV file -- default delimiter is ,\n",
    "#\n",
    "# What if instead of csv file you want to derive a tsv file (Tab seperated values)\n",
    "\n",
    "# Write with delimiter as \\t\n",
    "\n",
    "import csv\n",
    "\n",
    "rows = [\n",
    "    ['Name','Salary','Location'],\n",
    "    ['Prashant',90000,'Mumbai'],\n",
    "    ['Arun',9999,'Chennai']\n",
    "]\n",
    "\n",
    "with open('outputtsv.csv', mode ='w', newline='') as f:\n",
    "    writer = csv.writer(f , delimiter='\\t')\n",
    "    writer.writerows(rows)"
   ]
  },
  {
   "cell_type": "code",
   "execution_count": 11,
   "id": "a5a3bdec-f371-4fbc-aca4-6797d80d45c7",
   "metadata": {},
   "outputs": [
    {
     "name": "stdout",
     "output_type": "stream",
     "text": [
      "['Name', 'Salary', 'Location']\n",
      "['Prashant', '90000', 'Mumbai']\n",
      "['Arun', '9999', 'Chennai']\n"
     ]
    }
   ],
   "source": [
    "import csv\n",
    "\n",
    "with open(\"outputtsv.csv\",mode=\"r\",newline='') as f:\n",
    "    reader = csv.reader(f , delimiter='\\t')\n",
    "    for row in reader:\n",
    "        print(row)"
   ]
  },
  {
   "cell_type": "code",
   "execution_count": 12,
   "id": "9f52eacb-32a5-4207-b0d3-f6d98b8ce628",
   "metadata": {},
   "outputs": [],
   "source": [
    "# Write\n",
    "\n",
    "with open(\"output2.csv\", mode='w',newline='') as f:\n",
    "    header = [\"fname\",\"lname\",\"age\",\"department\"]\n",
    "    writer = csv.DictWriter(f , fieldnames=header, delimiter='\\t')\n",
    "    \n",
    "    writer.writeheader() #Write the header in the file\n",
    "    \n",
    "    writer.writerow({\"fname\":\"Prashant\",\"lname\":\"N\",\"age\":40,\"department\":\"Operations\"})\n",
    "    writer.writerow({\"fname\":\"Arun\",\"lname\":\"N\",\"age\":30,\"department\":\"HR\"})\n",
    "    \n",
    "    "
   ]
  },
  {
   "cell_type": "code",
   "execution_count": null,
   "id": "a4b3f4ac-dd1e-4113-a26f-6ff82ce271d0",
   "metadata": {},
   "outputs": [],
   "source": []
  }
 ],
 "metadata": {
  "kernelspec": {
   "display_name": "Python 3 [3.10]",
   "language": "python",
   "name": "python3"
  },
  "language_info": {
   "codemirror_mode": {
    "name": "ipython",
    "version": 3
   },
   "file_extension": ".py",
   "mimetype": "text/x-python",
   "name": "python",
   "nbconvert_exporter": "python",
   "pygments_lexer": "ipython3",
   "version": "3.10.2"
  }
 },
 "nbformat": 4,
 "nbformat_minor": 5
}
