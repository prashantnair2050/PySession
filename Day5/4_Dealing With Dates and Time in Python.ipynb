{
 "cells": [
  {
   "cell_type": "code",
   "execution_count": 1,
   "id": "efd1d800-2d4f-492b-aedf-d9b231b0d55e",
   "metadata": {},
   "outputs": [],
   "source": [
    "# Common standard libraries/modules available for Datetime\n",
    "# datetime\n",
    "# time\n",
    "# calendar"
   ]
  },
  {
   "cell_type": "code",
   "execution_count": 3,
   "id": "6c22e2e5-ace3-4ed8-9dcc-a620e1a0b681",
   "metadata": {},
   "outputs": [
    {
     "name": "stdout",
     "output_type": "stream",
     "text": [
      "Current date time is  2024-02-13 11:02:25.890479\n"
     ]
    }
   ],
   "source": [
    "# Datetime Module\n",
    "\n",
    "from datetime import datetime,date,time\n",
    "\n",
    "#Current date and time\n",
    "now = datetime.now()\n",
    "print(\"Current date time is \",now)"
   ]
  },
  {
   "cell_type": "code",
   "execution_count": 4,
   "id": "2c8e383a-16a9-40d3-a04f-16427386174e",
   "metadata": {},
   "outputs": [
    {
     "data": {
      "text/plain": [
       "datetime.date(2024, 2, 13)"
      ]
     },
     "execution_count": 4,
     "metadata": {},
     "output_type": "execute_result"
    }
   ],
   "source": [
    "# Set a specific date\n",
    "\n",
    "d = date(2024,2,13) #Year Month Day\n",
    "d"
   ]
  },
  {
   "cell_type": "code",
   "execution_count": 5,
   "id": "cb4b20bd-3db6-43ab-b955-9dd4810adb4f",
   "metadata": {},
   "outputs": [
    {
     "data": {
      "text/plain": [
       "datetime.time(11, 2)"
      ]
     },
     "execution_count": 5,
     "metadata": {},
     "output_type": "execute_result"
    }
   ],
   "source": [
    "# Set time\n",
    "\n",
    "t= time(11,2) #Hours Minutes\n",
    "t"
   ]
  },
  {
   "cell_type": "code",
   "execution_count": 6,
   "id": "c4070bc9-5afa-4ba9-96ed-340aea68db94",
   "metadata": {},
   "outputs": [
    {
     "data": {
      "text/plain": [
       "datetime.datetime(2024, 2, 13, 11, 2)"
      ]
     },
     "execution_count": 6,
     "metadata": {},
     "output_type": "execute_result"
    }
   ],
   "source": [
    "dt = datetime.combine(d,t)\n",
    "dt"
   ]
  },
  {
   "cell_type": "code",
   "execution_count": 8,
   "id": "a945594e-ae99-46c9-8805-909b5fda2f6a",
   "metadata": {},
   "outputs": [
    {
     "data": {
      "text/plain": [
       "'2024-02-13 11:02:25'"
      ]
     },
     "execution_count": 8,
     "metadata": {},
     "output_type": "execute_result"
    }
   ],
   "source": [
    "# Formatting of Dates and Time\n",
    "\n",
    "#Year Month Date Hours Minute Second\n",
    "\n",
    "now.strftime('%Y-%m-%d %H:%M:%S')"
   ]
  },
  {
   "cell_type": "code",
   "execution_count": 9,
   "id": "76522875-8e31-4e62-bf7a-f96765e2537c",
   "metadata": {},
   "outputs": [
    {
     "data": {
      "text/plain": [
       "'13-02-2024 11:02:25'"
      ]
     },
     "execution_count": 9,
     "metadata": {},
     "output_type": "execute_result"
    }
   ],
   "source": [
    "now.strftime('%d-%m-%Y %H:%M:%S')"
   ]
  },
  {
   "cell_type": "code",
   "execution_count": 12,
   "id": "0c037298-e8dd-418b-a42d-991b22250d32",
   "metadata": {},
   "outputs": [
    {
     "name": "stdout",
     "output_type": "stream",
     "text": [
      "Current time is 1707822613.3462553\n",
      "Local time is time.struct_time(tm_year=2024, tm_mon=2, tm_mday=13, tm_hour=11, tm_min=10, tm_sec=13, tm_wday=1, tm_yday=44, tm_isdst=0)\n",
      "13-02-2024 11:10:13\n"
     ]
    }
   ],
   "source": [
    "# Time\n",
    "\n",
    "import time\n",
    "\n",
    "# Time is in seconds since epoch\n",
    "print(f\"Current time is {time.time()}\")\n",
    "\n",
    "# Convert seconds to date tuple\n",
    "print(f\"Local time is {time.localtime(time.time())}\")\n",
    "\n",
    "# More Readable\n",
    "currentTime = time.localtime(time.time())\n",
    "print(time.strftime('%d-%m-%Y %H:%M:%S' , currentTime))"
   ]
  },
  {
   "cell_type": "code",
   "execution_count": 14,
   "id": "7bd700d9-d767-4518-9a95-6650286295cb",
   "metadata": {},
   "outputs": [
    {
     "name": "stdout",
     "output_type": "stream",
     "text": [
      "   February 2024\n",
      "Mo Tu We Th Fr Sa Su\n",
      "          1  2  3  4\n",
      " 5  6  7  8  9 10 11\n",
      "12 13 14 15 16 17 18\n",
      "19 20 21 22 23 24 25\n",
      "26 27 28 29\n",
      "\n"
     ]
    }
   ],
   "source": [
    "# Calendar Module\n",
    "\n",
    "import calendar\n",
    "\n",
    "cal = calendar.month(2024,2)\n",
    "print(cal)"
   ]
  },
  {
   "cell_type": "code",
   "execution_count": 15,
   "id": "8cf39ffd-239d-4801-8bcf-3efd39628ada",
   "metadata": {},
   "outputs": [
    {
     "data": {
      "text/plain": [
       "True"
      ]
     },
     "execution_count": 15,
     "metadata": {},
     "output_type": "execute_result"
    }
   ],
   "source": [
    "calendar.isleap(2024)"
   ]
  },
  {
   "cell_type": "code",
   "execution_count": null,
   "id": "71b712f2-c3f4-495b-8282-5b3567c989b4",
   "metadata": {},
   "outputs": [],
   "source": []
  }
 ],
 "metadata": {
  "kernelspec": {
   "display_name": "Python 3 [3.10]",
   "language": "python",
   "name": "python3"
  },
  "language_info": {
   "codemirror_mode": {
    "name": "ipython",
    "version": 3
   },
   "file_extension": ".py",
   "mimetype": "text/x-python",
   "name": "python",
   "nbconvert_exporter": "python",
   "pygments_lexer": "ipython3",
   "version": "3.10.2"
  }
 },
 "nbformat": 4,
 "nbformat_minor": 5
}
