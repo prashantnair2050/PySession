{
 "cells": [
  {
   "cell_type": "code",
   "execution_count": 1,
   "metadata": {},
   "outputs": [],
   "source": [
    "# Strings are one of the commonly used datatype, ideally used to store text data"
   ]
  },
  {
   "cell_type": "code",
   "execution_count": 2,
   "metadata": {},
   "outputs": [
    {
     "name": "stdout",
     "output_type": "stream",
     "text": [
      "Hello world\n",
      "Hello World\n",
      "Welcome to Python\n",
      "You are learning String Handling\n"
     ]
    }
   ],
   "source": [
    "#1. Creating Strings\n",
    "\n",
    "#Single Quote\n",
    "string1 = 'Hello world'\n",
    "print(string1)\n",
    "\n",
    "#Double Quote\n",
    "string2 = \"Hello World\"\n",
    "print(string2)\n",
    "\n",
    "#Triple Quote\n",
    "string3 = \"\"\"Welcome to Python\n",
    "You are learning String Handling\"\"\"\n",
    "print(string3)"
   ]
  },
  {
   "cell_type": "code",
   "execution_count": 9,
   "metadata": {},
   "outputs": [
    {
     "name": "stdout",
     "output_type": "stream",
     "text": [
      "o\n",
      "world\n"
     ]
    }
   ],
   "source": [
    "# 2. Access characters and substrings\n",
    "\n",
    "#Accessing single character\n",
    "print(string1[4])\n",
    "\n",
    "#Slice the String ---- Subset of teh string\n",
    "#\n",
    "# Accessing a substring you need to use a range\n",
    "# Syntax:\n",
    "#      var[startIndex:upperBound]\n",
    "#      \n",
    "#         where, \n",
    "#              upperBound = endIndex + 1\n",
    "#\n",
    "print(string1[ 6:11 ])"
   ]
  },
  {
   "cell_type": "code",
   "execution_count": 10,
   "metadata": {},
   "outputs": [
    {
     "data": {
      "text/plain": [
       "'Welcome to the world of Python. You are learning string handling with Prashant Nair'"
      ]
     },
     "execution_count": 10,
     "metadata": {},
     "output_type": "execute_result"
    }
   ],
   "source": [
    "data = \"Welcome to the world of Python. You are learning string handling with Prashant Nair\"\n",
    "data"
   ]
  },
  {
   "cell_type": "code",
   "execution_count": 15,
   "metadata": {},
   "outputs": [
    {
     "name": "stdout",
     "output_type": "stream",
     "text": [
      "Python\n",
      "Welcome to the world\n"
     ]
    }
   ],
   "source": [
    "#Extract Python\n",
    "print(data[24:30])\n",
    "\n",
    "print(data[0:20])\n"
   ]
  },
  {
   "cell_type": "code",
   "execution_count": 24,
   "metadata": {},
   "outputs": [
    {
     "name": "stdout",
     "output_type": "stream",
     "text": [
      "Hello World\n",
      "The addition of 10 and 20 is 30\n",
      "HelloHelloHello\n",
      "True\n"
     ]
    }
   ],
   "source": [
    "# Basic String operations\n",
    "\n",
    "#Concatenation ---- Merging of two or more strings (+)\n",
    "\n",
    "var1 = \"Hello\"\n",
    "var2 = \"World\"\n",
    "\n",
    "num1 = 10\n",
    "num2 = 20\n",
    "result = num1+num2\n",
    "\n",
    "print(var1+\" \"+var2)\n",
    "\n",
    "print(\"The addition of \"+str(num1)+\" and \"+str(num2)+\" is \"+str(result))\n",
    "\n",
    "#Repetition (*)\n",
    "\n",
    "print(var1 * 3)\n",
    "\n",
    "#Search Operation\n",
    "\n",
    "data = \"Welcome to the world of Python. You are learning string handling with Prashant Nair\"\n",
    "\n",
    "#Check if the word Python exists in data variable?\n",
    "#in operator\n",
    "\n",
    "print(\"Python\" in data)\n"
   ]
  },
  {
   "cell_type": "code",
   "execution_count": 36,
   "metadata": {},
   "outputs": [
    {
     "name": "stdout",
     "output_type": "stream",
     "text": [
      "WELCOME TO THE WORLD OF PYTHON. YOU ARE LEARNING STRING HANDLING WITH PRASHANT NAIR\n",
      "welcome to the world of python. you are learning string handling with prashant nair\n",
      "24\n",
      "24\n",
      "Welcome to the world of Java. You are learning string handling using Java with Prashant Nair\n",
      "Hello\n",
      "Hello \n",
      " Hello\n"
     ]
    }
   ],
   "source": [
    "#String Methods\n",
    "\n",
    "data = \"Welcome to the world of Python. You are learning string handling with Prashant Nair\"\n",
    "data1 = \"Welcome to the world of Python. You are learning string handling using Python with Prashant Nair\"\n",
    "\n",
    "#Change case\n",
    "\n",
    "print(data.upper())\n",
    "print(data.lower())\n",
    "\n",
    "# Find and Replace\n",
    "#\n",
    "# find() returns the startIndex location of the given word\n",
    "\n",
    "position = data.find(\"Python\")\n",
    "print(position)\n",
    "\n",
    "position = data1.find(\"Python\")\n",
    "print(position)\n",
    "\n",
    "replacedString = data1.replace(\"Python\",\"Java\")\n",
    "print(replacedString)\n",
    "\n",
    "\n",
    "#Stripping whitespace\n",
    "test = \" Hello \"\n",
    "print(test.strip())\n",
    "print(test.lstrip()) #Remove left whitespace\n",
    "print(test.rstrip()) #Remove right whitespace"
   ]
  },
  {
   "cell_type": "code",
   "execution_count": 41,
   "metadata": {},
   "outputs": [
    {
     "name": "stdout",
     "output_type": "stream",
     "text": [
      "Here I am converting Ascii 65 to character  A\n",
      "Here I am converting character A to ASCII  65\n"
     ]
    }
   ],
   "source": [
    "#String Functions\n",
    "\n",
    "#len -- Get the length of the string\n",
    "\n",
    "len(data)\n",
    "\n",
    "#Goal is convert Character to ASCII code\n",
    "print(\"Here I am converting Ascii 65 to character \",chr(65))\n",
    "print(\"Here I am converting character A to ASCII \",ord('A'))"
   ]
  },
  {
   "cell_type": "code",
   "execution_count": null,
   "metadata": {},
   "outputs": [],
   "source": []
  }
 ],
 "metadata": {
  "kernelspec": {
   "display_name": "Python 3",
   "language": "python",
   "name": "python3"
  },
  "language_info": {
   "codemirror_mode": {
    "name": "ipython",
    "version": 3
   },
   "file_extension": ".py",
   "mimetype": "text/x-python",
   "name": "python",
   "nbconvert_exporter": "python",
   "pygments_lexer": "ipython3",
   "version": "3.7.6"
  }
 },
 "nbformat": 4,
 "nbformat_minor": 4
}
