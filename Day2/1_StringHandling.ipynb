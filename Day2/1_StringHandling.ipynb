{
 "cells": [
  {
   "cell_type": "code",
   "execution_count": 1,
   "metadata": {},
   "outputs": [],
   "source": [
    "# Strings are one of the commonly used datatype, ideally used to store text data"
   ]
  },
  {
   "cell_type": "code",
   "execution_count": 2,
   "metadata": {},
   "outputs": [
    {
     "name": "stdout",
     "output_type": "stream",
     "text": [
      "Hello world\n",
      "Hello World\n",
      "Welcome to Python\n",
      "You are learning String Handling\n"
     ]
    }
   ],
   "source": [
    "#1. Creating Strings\n",
    "\n",
    "#Single Quote\n",
    "string1 = 'Hello world'\n",
    "print(string1)\n",
    "\n",
    "#Double Quote\n",
    "string2 = \"Hello World\"\n",
    "print(string2)\n",
    "\n",
    "#Triple Quote\n",
    "string3 = \"\"\"Welcome to Python\n",
    "You are learning String Handling\"\"\"\n",
    "print(string3)"
   ]
  },
  {
   "cell_type": "code",
   "execution_count": 9,
   "metadata": {},
   "outputs": [
    {
     "name": "stdout",
     "output_type": "stream",
     "text": [
      "o\n",
      "world\n"
     ]
    }
   ],
   "source": [
    "# 2. Access characters and substrings\n",
    "\n",
    "#Accessing single character\n",
    "print(string1[4])\n",
    "\n",
    "#Slice the String ---- Subset of teh string\n",
    "#\n",
    "# Accessing a substring you need to use a range\n",
    "# Syntax:\n",
    "#      var[startIndex:upperBound]\n",
    "#      \n",
    "#         where, \n",
    "#              upperBound = endIndex + 1\n",
    "#\n",
    "print(string1[ 6:11 ])"
   ]
  },
  {
   "cell_type": "code",
   "execution_count": 10,
   "metadata": {},
   "outputs": [
    {
     "data": {
      "text/plain": [
       "'Welcome to the world of Python. You are learning string handling with Prashant Nair'"
      ]
     },
     "execution_count": 10,
     "metadata": {},
     "output_type": "execute_result"
    }
   ],
   "source": [
    "data = \"Welcome to the world of Python. You are learning string handling with Prashant Nair\"\n",
    "data"
   ]
  },
  {
   "cell_type": "code",
   "execution_count": 15,
   "metadata": {},
   "outputs": [
    {
     "name": "stdout",
     "output_type": "stream",
     "text": [
      "Python\n",
      "Welcome to the world\n"
     ]
    }
   ],
   "source": [
    "#Extract Python\n",
    "print(data[24:30])\n",
    "\n",
    "print(data[0:20])\n"
   ]
  },
  {
   "cell_type": "code",
   "execution_count": 24,
   "metadata": {},
   "outputs": [
    {
     "name": "stdout",
     "output_type": "stream",
     "text": [
      "Hello World\n",
      "The addition of 10 and 20 is 30\n",
      "HelloHelloHello\n",
      "True\n"
     ]
    }
   ],
   "source": [
    "# Basic String operations\n",
    "\n",
    "#Concatenation ---- Merging of two or more strings (+)\n",
    "\n",
    "var1 = \"Hello\"\n",
    "var2 = \"World\"\n",
    "\n",
    "num1 = 10\n",
    "num2 = 20\n",
    "result = num1+num2\n",
    "\n",
    "print(var1+\" \"+var2)\n",
    "\n",
    "print(\"The addition of \"+str(num1)+\" and \"+str(num2)+\" is \"+str(result))\n",
    "\n",
    "#Repetition (*)\n",
    "\n",
    "print(var1 * 3)\n",
    "\n",
    "#Search Operation\n",
    "\n",
    "data = \"Welcome to the world of Python. You are learning string handling with Prashant Nair\"\n",
    "\n",
    "#Check if the word Python exists in data variable?\n",
    "#in operator\n",
    "\n",
    "print(\"Python\" in data)\n"
   ]
  },
  {
   "cell_type": "code",
   "execution_count": null,
   "metadata": {},
   "outputs": [],
   "source": []
  }
 ],
 "metadata": {
  "kernelspec": {
   "display_name": "Python 3",
   "language": "python",
   "name": "python3"
  },
  "language_info": {
   "codemirror_mode": {
    "name": "ipython",
    "version": 3
   },
   "file_extension": ".py",
   "mimetype": "text/x-python",
   "name": "python",
   "nbconvert_exporter": "python",
   "pygments_lexer": "ipython3",
   "version": "3.7.6"
  }
 },
 "nbformat": 4,
 "nbformat_minor": 4
}
