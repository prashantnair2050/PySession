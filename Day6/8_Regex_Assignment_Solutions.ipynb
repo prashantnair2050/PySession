{
 "cells": [
  {
   "cell_type": "markdown",
   "id": "dc00b6e0",
   "metadata": {},
   "source": [
    "# Regular Expressions Assignment Solutions"
   ]
  },
  {
   "cell_type": "markdown",
   "id": "15c3d4e5",
   "metadata": {},
   "source": [
    "\n",
    "## Solutions\n",
    "\n",
    "Here are the solutions to the Regular Expressions assignment. Each solution is provided in a separate cell corresponding to its question.\n",
    "    "
   ]
  },
  {
   "cell_type": "code",
   "execution_count": null,
   "id": "574e0530",
   "metadata": {},
   "outputs": [],
   "source": [
    "\n",
    "import re\n",
    "\n",
    "text = \"Python 3.9 is awesome. Python 3.10 is even better!\"\n",
    "pattern = \"Python 3.\\d\"\n",
    "matches = re.findall(pattern, text)\n",
    "print(matches)\n",
    "    "
   ]
  },
  {
   "cell_type": "code",
   "execution_count": null,
   "id": "a2a5c5ec",
   "metadata": {},
   "outputs": [],
   "source": [
    "\n",
    "import re\n",
    "\n",
    "email = \"test.user@example.com\"\n",
    "pattern = r\"^[a-zA-Z0-9._%+-]+@[a-zA-Z0-9.-]+\\.[a-zA-Z]{2,}$\"\n",
    "match = re.match(pattern, email)\n",
    "print(\"Valid\" if match else \"Invalid\")\n",
    "    "
   ]
  },
  {
   "cell_type": "code",
   "execution_count": null,
   "id": "26a970af",
   "metadata": {},
   "outputs": [],
   "source": [
    "\n",
    "import re\n",
    "\n",
    "text = \"Important dates: 2024-01-01, 2024-02-14, 2024-03-01\"\n",
    "pattern = r\"\\d{4}-\\d{2}-\\d{2}\"\n",
    "dates = re.findall(pattern, text)\n",
    "print(dates)\n",
    "    "
   ]
  },
  {
   "cell_type": "code",
   "execution_count": null,
   "id": "f097f060",
   "metadata": {},
   "outputs": [],
   "source": [
    "\n",
    "text = \"Python is fun. Pythons are snakes.\"\n",
    "result = text.replace(\"Python\", \"Java\")\n",
    "print(result)\n",
    "    "
   ]
  },
  {
   "cell_type": "code",
   "execution_count": null,
   "id": "50d19816",
   "metadata": {},
   "outputs": [],
   "source": [
    "\n",
    "import re\n",
    "\n",
    "text = \"Hello, world! How are you? I am fine; thank you.\"\n",
    "substrings = re.split(r'[.!?;,]', text)\n",
    "substrings = [substring.strip() for substring in substrings if substring] # Removing empty strings and stripping spaces\n",
    "print(substrings)\n",
    "    "
   ]
  },
  {
   "cell_type": "code",
   "execution_count": null,
   "id": "58ee9af9",
   "metadata": {},
   "outputs": [],
   "source": [
    "\n",
    "import re\n",
    "\n",
    "hex_str = \"1A3F\"\n",
    "pattern = r\"^\\b[0-9A-Fa-f]+\\b$\"\n",
    "match = re.match(pattern, hex_str)\n",
    "print(\"Valid\" if match else \"Invalid\")\n",
    "    "
   ]
  },
  {
   "cell_type": "code",
   "execution_count": null,
   "id": "4513900f",
   "metadata": {},
   "outputs": [],
   "source": [
    "\n",
    "import re\n",
    "\n",
    "contacts = \"Call these numbers: 123-456-7890, 098-765-4321.\"\n",
    "pattern = r\"\\b\\d{3}-\\d{3}-\\d{4}\\b\"\n",
    "phone_numbers = re.findall(pattern, contacts)\n",
    "print(phone_numbers)\n",
    "    "
   ]
  },
  {
   "cell_type": "code",
   "execution_count": null,
   "id": "ba5761fb",
   "metadata": {},
   "outputs": [],
   "source": [
    "\n",
    "import re\n",
    "\n",
    "password = \"SecurePass123\"\n",
    "pattern = r\"^(?=.*[a-z])(?=.*[A-Z])(?=.*\\d)[A-Za-z\\d]{8,}$\"\n",
    "match = re.match(pattern, password)\n",
    "print(\"Valid\" if match else \"Invalid\")\n",
    "    "
   ]
  },
  {
   "cell_type": "code",
   "execution_count": null,
   "id": "611f84c0",
   "metadata": {},
   "outputs": [],
   "source": [
    "\n",
    "import re\n",
    "\n",
    "text = \"Regular expressions are powerful. They can help us search, match, and extract data.\"\n",
    "pattern = r\"\\b[sS]\\w+\"\n",
    "words = re.findall(pattern, text)\n",
    "print(words)\n",
    "    "
   ]
  },
  {
   "cell_type": "code",
   "execution_count": null,
   "id": "c68a0908",
   "metadata": {},
   "outputs": [],
   "source": [
    "\n",
    "import re\n",
    "\n",
    "html = \"<div>Hello</div><div>World</div>\"\n",
    "pattern_greedy = r\"<div>.*</div>\"\n",
    "pattern_lazy = r\"<div>.*?</div>\"\n",
    "\n",
    "match_greedy = re.search(pattern_greedy, html)\n",
    "match_lazy = re.search(pattern_lazy, html)\n",
    "\n",
    "print(\"Greedy match:\", match_greedy.group())\n",
    "print(\"Non-Greedy match:\", match_lazy.group())\n",
    "    "
   ]
  }
 ],
 "metadata": {},
 "nbformat": 4,
 "nbformat_minor": 5
}
