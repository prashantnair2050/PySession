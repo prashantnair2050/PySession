{
 "cells": [
  {
   "cell_type": "code",
   "execution_count": 1,
   "id": "d0e5181f-c3ee-436a-a2d7-bc3c9f9df3a2",
   "metadata": {},
   "outputs": [],
   "source": [
    "# Pattern Matching \n",
    "# Applicable for String data\n",
    "#\n",
    "# re package"
   ]
  },
  {
   "cell_type": "code",
   "execution_count": 2,
   "id": "7175a253-34dc-4981-8478-3412d9bc9609",
   "metadata": {},
   "outputs": [],
   "source": [
    "import re"
   ]
  },
  {
   "cell_type": "code",
   "execution_count": 3,
   "id": "2f246aa5-61dc-44d3-8cd6-6bb0bb9cffd0",
   "metadata": {},
   "outputs": [
    {
     "data": {
      "text/plain": [
       "<re.Match object; span=(11, 17), match='Python'>"
      ]
     },
     "execution_count": 3,
     "metadata": {},
     "output_type": "execute_result"
    }
   ],
   "source": [
    "text = \"Welcome to Python\"\n",
    "#Goal: Find if the word Python exists in the given statement/string variable\n",
    "\n",
    "pattern = r\"Python\"\n",
    "\n",
    "# search(pattern,stringData)\n",
    "re.search(pattern,text)"
   ]
  },
  {
   "cell_type": "code",
   "execution_count": 4,
   "id": "596c010f-9c64-46ea-bda2-d99843693699",
   "metadata": {},
   "outputs": [
    {
     "name": "stdout",
     "output_type": "stream",
     "text": [
      "Match Found\n"
     ]
    }
   ],
   "source": [
    "match = re.search(pattern,text)\n",
    "if match:\n",
    "    print(\"Match Found\")\n",
    "else:\n",
    "    print(\"No match found\")"
   ]
  },
  {
   "cell_type": "code",
   "execution_count": 6,
   "id": "27789042-064f-407d-a900-993292d912bb",
   "metadata": {},
   "outputs": [
    {
     "name": "stdout",
     "output_type": "stream",
     "text": [
      "No match found\n"
     ]
    }
   ],
   "source": [
    "#Metacharacters - They are those characters that have a special meaning\n",
    "\n",
    "pattern = r\"a...e\"\n",
    "\n",
    "text = \"applllllllllle\"\n",
    "\n",
    "match = re.match(pattern,text)\n",
    "\n",
    "if match:\n",
    "    print(\"Match Found\")\n",
    "else:\n",
    "    print(\"No match found\")\n",
    "    "
   ]
  },
  {
   "cell_type": "code",
   "execution_count": 11,
   "id": "82c8371e-711a-4761-bb97-e3201a71c11c",
   "metadata": {},
   "outputs": [
    {
     "data": {
      "text/plain": [
       "['a', 'b', 'c', 'd', 'e']"
      ]
     },
     "execution_count": 11,
     "metadata": {},
     "output_type": "execute_result"
    }
   ],
   "source": [
    "# Character Class\n",
    "\n",
    "pattern = r\"[a-e]\"\n",
    "\n",
    "text = \"ABCDE\"\n",
    "\n",
    "re.findall(pattern,text.lower())"
   ]
  },
  {
   "cell_type": "code",
   "execution_count": 12,
   "id": "92069afa-d10e-4cee-9d0e-45db345216f4",
   "metadata": {},
   "outputs": [
    {
     "name": "stdout",
     "output_type": "stream",
     "text": [
      "Match Found\n"
     ]
    }
   ],
   "source": [
    "# Grouping and Capturing\n",
    "\n",
    "pattern = r\"(test)+\"\n",
    "\n",
    "text=\"testtest\"\n",
    "\n",
    "match = re.search(pattern,text)\n",
    "\n",
    "if match:\n",
    "    print(\"Match Found\")\n",
    "else:\n",
    "    print(\"No match Found\")"
   ]
  },
  {
   "cell_type": "code",
   "execution_count": null,
   "id": "27b47048-4d37-4b78-a01c-6295eabaabd7",
   "metadata": {},
   "outputs": [],
   "source": []
  }
 ],
 "metadata": {
  "kernelspec": {
   "display_name": "Python 3 [3.10]",
   "language": "python",
   "name": "python3"
  },
  "language_info": {
   "codemirror_mode": {
    "name": "ipython",
    "version": 3
   },
   "file_extension": ".py",
   "mimetype": "text/x-python",
   "name": "python",
   "nbconvert_exporter": "python",
   "pygments_lexer": "ipython3",
   "version": "3.10.2"
  }
 },
 "nbformat": 4,
 "nbformat_minor": 5
}
