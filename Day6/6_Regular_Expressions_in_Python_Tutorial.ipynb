{
 "cells": [
  {
   "cell_type": "markdown",
   "id": "6e5deeb8",
   "metadata": {},
   "source": [
    "# Regular Expressions in Python"
   ]
  },
  {
   "cell_type": "markdown",
   "id": "b1c1157e",
   "metadata": {},
   "source": [
    "\n",
    "Regular expressions (regex) provide a powerful way to search and manipulate strings. Python's `re` module allows you to use regex in your Python code, enabling you to match patterns, search within strings, replace substrings, and split strings, among other functionalities. This tutorial will introduce you to the basics of regular expressions in Python, including how to use the `re` module, various regex patterns, and some common regex operations.\n"
   ]
  },
  {
   "cell_type": "markdown",
   "id": "c2fb0470",
   "metadata": {},
   "source": [
    "## Basic Patterns"
   ]
  },
  {
   "cell_type": "code",
   "execution_count": null,
   "id": "0314025e",
   "metadata": {},
   "outputs": [],
   "source": [
    "\n",
    "import re\n",
    "\n",
    "# Example: Matching a simple word\n",
    "pattern = r\"Python\"\n",
    "text = \"Learning Python with OpenAI\"\n",
    "match = re.search(pattern, text)\n",
    "if match:\n",
    "    print(\"Match found:\", match.group())\n",
    "else:\n",
    "    print(\"No match found\")\n"
   ]
  },
  {
   "cell_type": "markdown",
   "id": "ac626be0",
   "metadata": {},
   "source": [
    "## Metacharacters"
   ]
  },
  {
   "cell_type": "code",
   "execution_count": null,
   "id": "ebd360e9",
   "metadata": {},
   "outputs": [],
   "source": [
    "\n",
    "# Metacharacters are characters that have a special meaning in regex\n",
    "pattern = r\"^a...s$\"\n",
    "text = \"abyss\"\n",
    "match = re.match(pattern, text)\n",
    "if match:\n",
    "    print(\"Match found:\", match.group())\n",
    "else:\n",
    "    print(\"No match found\")\n"
   ]
  },
  {
   "cell_type": "markdown",
   "id": "727709f9",
   "metadata": {},
   "source": [
    "## Character Classes"
   ]
  },
  {
   "cell_type": "code",
   "execution_count": null,
   "id": "b77c6abb",
   "metadata": {},
   "outputs": [],
   "source": [
    "\n",
    "# Character classes provide a way to match only one of a specific set of characters\n",
    "pattern = r\"[a-e]\"\n",
    "text = \"hello\"\n",
    "matches = re.findall(pattern, text)\n",
    "print(\"Matches found:\", matches)\n"
   ]
  },
  {
   "cell_type": "markdown",
   "id": "e15264e8",
   "metadata": {},
   "source": [
    "## Grouping and Capturing"
   ]
  },
  {
   "cell_type": "code",
   "execution_count": null,
   "id": "49039acb",
   "metadata": {},
   "outputs": [],
   "source": [
    "\n",
    "# Parentheses () are used for grouping and capturing\n",
    "pattern = r\"(test)+\"\n",
    "text = \"testtest\"\n",
    "match = re.search(pattern, text)\n",
    "if match:\n",
    "    print(\"Match found:\", match.group())\n",
    "else:\n",
    "    print(\"No match found\")\n"
   ]
  },
  {
   "cell_type": "markdown",
   "id": "a4530c8a",
   "metadata": {},
   "source": [
    "## Greedy vs Non-Greedy Matching"
   ]
  },
  {
   "cell_type": "code",
   "execution_count": null,
   "id": "fef21ff6",
   "metadata": {},
   "outputs": [],
   "source": [
    "\n",
    "# Greedy matching tries to match as much as possible\n",
    "# Non-greedy (or lazy) matching tries to match as little as possible\n",
    "pattern = r\"<.*>\"  # Greedy\n",
    "pattern_lazy = r\"<.*?>\"  # Non-Greedy\n",
    "text = \"<html><head><title>Title</title></head></html>\"\n",
    "match = re.search(pattern, text)\n",
    "match_lazy = re.search(pattern_lazy, text)\n",
    "print(\"Greedy match:\", match.group())\n",
    "print(\"Non-Greedy match:\", match_lazy.group())\n"
   ]
  },
  {
   "cell_type": "markdown",
   "id": "c9dfa3eb",
   "metadata": {},
   "source": [
    "\n",
    "## Conclusion\n",
    "In this tutorial, we have introduced the basics of regular expressions in Python, including the use of the `re` module, basic patterns, metacharacters, character classes, grouping, and the concept of greedy versus non-greedy matching. Regular expressions are a powerful tool for string manipulation and can significantly simplify complex string processing tasks.\n"
   ]
  }
 ],
 "metadata": {},
 "nbformat": 4,
 "nbformat_minor": 5
}
