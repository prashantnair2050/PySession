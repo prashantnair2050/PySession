{
  "cells": [
    {
      "cell_type": "markdown",
      "id": "ff5d4ab3",
      "metadata": {
        "id": "ff5d4ab3"
      },
      "source": [
        "# Regular Expressions Assignment"
      ]
    },
    {
      "cell_type": "markdown",
      "id": "1b62b676",
      "metadata": {
        "id": "1b62b676"
      },
      "source": [
        "\n",
        "## Instructions\n",
        "\n",
        "- Use Python's `re` module to complete the following tasks.\n",
        "- A cell with the question as a comment is provided, followed by an empty cell for your solution.\n",
        "    "
      ]
    },
    {
      "cell_type": "code",
      "execution_count": null,
      "id": "dcc3f8fc",
      "metadata": {
        "id": "dcc3f8fc"
      },
      "outputs": [],
      "source": [
        "# Find all occurrences: Given the string `text = \"Python 3.9 is awesome. Python 3.10 is even better!\"`, use a regular expression to find all occurrences of the pattern \"Python 3.x\" where x is any digit, and print the matches.\n",
        "\n",
        "# Write your solution here"
      ]
    },
    {
      "cell_type": "code",
      "execution_count": null,
      "id": "a5dfc700",
      "metadata": {
        "id": "a5dfc700"
      },
      "outputs": [],
      "source": []
    },
    {
      "cell_type": "code",
      "execution_count": null,
      "id": "d892293f",
      "metadata": {
        "id": "d892293f"
      },
      "outputs": [],
      "source": [
        "# Email validation: Write a regular expression to validate an email address. It should match email addresses of the form `username@domain.com`. Use this regex to validate the following email: `test.user@example.com`.\n",
        "\n",
        "# Write your solution here"
      ]
    },
    {
      "cell_type": "code",
      "execution_count": null,
      "id": "edc705cb",
      "metadata": {
        "id": "edc705cb"
      },
      "outputs": [],
      "source": []
    },
    {
      "cell_type": "code",
      "execution_count": null,
      "id": "2c1da36d",
      "metadata": {
        "id": "2c1da36d"
      },
      "outputs": [],
      "source": [
        "# Extracting dates: Given the string `text = \"Important dates: 2024-01-01, 2024-02-14, 2024-03-01\"`, write a regular expression to extract all dates (in YYYY-MM-DD format) and print them as a list.\n",
        "\n",
        "# Write your solution here"
      ]
    },
    {
      "cell_type": "code",
      "execution_count": null,
      "id": "b4b29b1f",
      "metadata": {
        "id": "b4b29b1f"
      },
      "outputs": [],
      "source": []
    },
    {
      "cell_type": "code",
      "execution_count": null,
      "id": "42643e8e",
      "metadata": {
        "id": "42643e8e"
      },
      "outputs": [],
      "source": [
        "# Replacing text: In the string `text = \"Python is fun. Pythons are snakes.\"`, replace all occurrences of \"Python\" (case-sensitive) with \"Java\" and print the result.\n",
        "\n",
        "# Write your solution here"
      ]
    },
    {
      "cell_type": "code",
      "execution_count": null,
      "id": "dafcd2ac",
      "metadata": {
        "id": "dafcd2ac"
      },
      "outputs": [],
      "source": []
    },
    {
      "cell_type": "code",
      "execution_count": null,
      "id": "c7da6163",
      "metadata": {
        "id": "c7da6163"
      },
      "outputs": [],
      "source": [
        "# Splitting text: Use a regular expression to split the following string at any punctuation: `text = \"Hello, world! How are you? I am fine; thank you.\"`. Print the list of resulting substrings.\n",
        "\n",
        "# Write your solution here"
      ]
    },
    {
      "cell_type": "code",
      "execution_count": null,
      "id": "2eec8d96",
      "metadata": {
        "id": "2eec8d96"
      },
      "outputs": [],
      "source": []
    },
    {
      "cell_type": "code",
      "execution_count": null,
      "id": "d855dd71",
      "metadata": {
        "id": "d855dd71"
      },
      "outputs": [],
      "source": [
        "# Checking for a hexadecimal string: Write a regular expression that matches strings that represent valid hexadecimal numbers (e.g., \"a3\", \"FF\", \"00\", \"123ABC\"), and use it to check if `hex_str = \"1A3F\"` is a valid hexadecimal number.\n",
        "\n",
        "# Write your solution here"
      ]
    },
    {
      "cell_type": "code",
      "execution_count": null,
      "id": "7cd3480d",
      "metadata": {
        "id": "7cd3480d"
      },
      "outputs": [],
      "source": []
    },
    {
      "cell_type": "code",
      "execution_count": null,
      "id": "e756eda6",
      "metadata": {
        "id": "e756eda6"
      },
      "outputs": [],
      "source": [
        "# Matching phone numbers: Write a regex to match and extract phone numbers of the format `xxx-xxx-xxxx`. Use it to find and print all matches from the string `contacts = \"Call these numbers: 123-456-7890, 098-765-4321.\"`.\n",
        "\n",
        "# Write your solution here"
      ]
    },
    {
      "cell_type": "code",
      "execution_count": null,
      "id": "50937d5b",
      "metadata": {
        "id": "50937d5b"
      },
      "outputs": [],
      "source": []
    },
    {
      "cell_type": "code",
      "execution_count": null,
      "id": "c89a118c",
      "metadata": {
        "id": "c89a118c"
      },
      "outputs": [],
      "source": [
        "# Validating a password: Write a regular expression to validate a password, ensuring it meets the following criteria: at least 8 characters long, contains both uppercase and lowercase letters, and includes at least one digit. Use the regex to validate `password = \"SecurePass123\"`.\n",
        "\n",
        "# Write your solution here"
      ]
    },
    {
      "cell_type": "code",
      "execution_count": null,
      "id": "07d999e6",
      "metadata": {
        "id": "07d999e6"
      },
      "outputs": [],
      "source": []
    },
    {
      "cell_type": "code",
      "execution_count": null,
      "id": "a293f428",
      "metadata": {
        "id": "a293f428"
      },
      "outputs": [],
      "source": [
        "# Extracting words starting with a specific letter: Given the string `text = \"Regular expressions are powerful. They can help us search, match, and extract data.\"`, write a regex to extract all words that start with the letter \"s\" or \"S\", case-insensitive. Print the list of words.\n",
        "\n",
        "# Write your solution here"
      ]
    },
    {
      "cell_type": "code",
      "execution_count": null,
      "id": "21e91baf",
      "metadata": {
        "id": "21e91baf"
      },
      "outputs": [],
      "source": []
    },
    {
      "cell_type": "code",
      "execution_count": null,
      "id": "2c3d05e2",
      "metadata": {
        "id": "2c3d05e2"
      },
      "outputs": [],
      "source": [
        "# Greedy vs. Non-Greedy Matching: Given the HTML snippet `html = \"<div>Hello</div><div>World</div>\"`, write two regular expressions to extract the content between the first pair of `<div>` tags: one using greedy matching and another using non-greedy (lazy) matching. Explain the difference in the output of both.\n",
        "\n",
        "# Write your solution here"
      ]
    },
    {
      "cell_type": "code",
      "execution_count": null,
      "id": "1eb61bdb",
      "metadata": {
        "id": "1eb61bdb"
      },
      "outputs": [],
      "source": []
    }
  ],
  "metadata": {
    "colab": {
      "provenance": []
    }
  },
  "nbformat": 4,
  "nbformat_minor": 5
}