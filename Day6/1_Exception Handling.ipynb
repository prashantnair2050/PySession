{
 "cells": [
  {
   "cell_type": "code",
   "execution_count": 1,
   "id": "15228a9f-8ff7-43b5-b4b4-a6024d21a032",
   "metadata": {},
   "outputs": [],
   "source": [
    "# Exception Handling \n",
    "#\n",
    "# In Python is a critical aspect for writing robust and error-resistant programs\n",
    "# Handling Errors Gracefully such that the program shall not terminate Abnormally\n",
    "#\n",
    "#  1. Try-except block\n",
    "#  2. The else clause\n",
    "#  3. the finally clause\n",
    "#\n",
    "#"
   ]
  },
  {
   "cell_type": "code",
   "execution_count": 2,
   "id": "261d66ae-2c38-4428-a795-6ae89b01c120",
   "metadata": {},
   "outputs": [
    {
     "ename": "ZeroDivisionError",
     "evalue": "division by zero",
     "output_type": "error",
     "traceback": [
      "\u001b[0;31m---------------------------------------------------------------------------\u001b[0m",
      "\u001b[0;31mZeroDivisionError\u001b[0m                         Traceback (most recent call last)",
      "\u001b[0;32m/tmp/ipykernel_109/1725448531.py\u001b[0m in \u001b[0;36m<cell line: 1>\u001b[0;34m()\u001b[0m\n\u001b[0;32m----> 1\u001b[0;31m \u001b[0;36m10\u001b[0m \u001b[0;34m/\u001b[0m \u001b[0;36m0\u001b[0m\u001b[0;34m\u001b[0m\u001b[0;34m\u001b[0m\u001b[0m\n\u001b[0m",
      "\u001b[0;31mZeroDivisionError\u001b[0m: division by zero"
     ]
    }
   ],
   "source": [
    "10 / 0"
   ]
  },
  {
   "cell_type": "code",
   "execution_count": 3,
   "id": "b1eac44f-ae21-41ed-9b60-258dac6dd145",
   "metadata": {},
   "outputs": [
    {
     "name": "stdout",
     "output_type": "stream",
     "text": [
      "You cannot divide by zero. Please retry\n"
     ]
    }
   ],
   "source": [
    "#try:\n",
    "    #statement which needs to be checked\n",
    "#except:\n",
    "    #statement of error to give to the user\n",
    "    \n",
    "try:\n",
    "    result = 10 / 0\n",
    "except ZeroDivisionError:\n",
    "    print(\"You cannot divide by zero. Please retry\")"
   ]
  },
  {
   "cell_type": "code",
   "execution_count": 8,
   "id": "d3fd4568-34e0-4ca7-8c25-3f0966b4b57f",
   "metadata": {},
   "outputs": [
    {
     "name": "stdin",
     "output_type": "stream",
     "text": [
      "Enter num1:  sdsd\n"
     ]
    },
    {
     "name": "stdout",
     "output_type": "stream",
     "text": [
      "Please enter a numeric value\n"
     ]
    }
   ],
   "source": [
    "# Simple addition of two numbers using user input\n",
    "\n",
    "try:\n",
    "    num1 = int(input(\"Enter num1: \"))\n",
    "    num2 = int(input(\"Enter num2: \"))\n",
    "    result = num1 + num2\n",
    "    print(f\"Addition of {num1} and {num2} is {result}\")\n",
    "except ValueError:\n",
    "    print(\"Please enter a numeric value\")\n",
    "\n"
   ]
  },
  {
   "cell_type": "code",
   "execution_count": 12,
   "id": "137c38cd-9b07-418c-84d8-c9f80e17ef21",
   "metadata": {},
   "outputs": [
    {
     "name": "stdout",
     "output_type": "stream",
     "text": [
      "An exception occured , please check the below error \n",
      " list index out of range\n"
     ]
    }
   ],
   "source": [
    "# multiple exceptions\n",
    "try:\n",
    "    list1=[1,2,3,4]\n",
    "    list1[7]\n",
    "except (IndexError,KeyError) as e:\n",
    "    print(f\"An exception occured , please check the below error \\n {e}\")"
   ]
  },
  {
   "cell_type": "code",
   "execution_count": 13,
   "id": "d83e9372-8966-4813-ad3a-25bb514dd100",
   "metadata": {},
   "outputs": [
    {
     "ename": "IndexError",
     "evalue": "list index out of range",
     "output_type": "error",
     "traceback": [
      "\u001b[0;31m---------------------------------------------------------------------------\u001b[0m",
      "\u001b[0;31mIndexError\u001b[0m                                Traceback (most recent call last)",
      "\u001b[0;32m/tmp/ipykernel_109/869331961.py\u001b[0m in \u001b[0;36m<cell line: 2>\u001b[0;34m()\u001b[0m\n\u001b[1;32m      1\u001b[0m \u001b[0mlist1\u001b[0m\u001b[0;34m=\u001b[0m\u001b[0;34m[\u001b[0m\u001b[0;36m1\u001b[0m\u001b[0;34m,\u001b[0m\u001b[0;36m2\u001b[0m\u001b[0;34m,\u001b[0m\u001b[0;36m3\u001b[0m\u001b[0;34m,\u001b[0m\u001b[0;36m4\u001b[0m\u001b[0;34m]\u001b[0m\u001b[0;34m\u001b[0m\u001b[0;34m\u001b[0m\u001b[0m\n\u001b[0;32m----> 2\u001b[0;31m \u001b[0mlist1\u001b[0m\u001b[0;34m[\u001b[0m\u001b[0;36m7\u001b[0m\u001b[0;34m]\u001b[0m\u001b[0;34m\u001b[0m\u001b[0;34m\u001b[0m\u001b[0m\n\u001b[0m",
      "\u001b[0;31mIndexError\u001b[0m: list index out of range"
     ]
    }
   ],
   "source": [
    "list1=[1,2,3,4]\n",
    "list1[7]"
   ]
  },
  {
   "cell_type": "code",
   "execution_count": 16,
   "id": "08cd7385-d7e5-416f-baea-664d01d8bb72",
   "metadata": {},
   "outputs": [
    {
     "name": "stdin",
     "output_type": "stream",
     "text": [
      "Enter num1:  3\n",
      "Enter num2:  4\n"
     ]
    },
    {
     "name": "stdout",
     "output_type": "stream",
     "text": [
      "Addition of 3 and 4 is 7\n"
     ]
    }
   ],
   "source": [
    "# The else clause --- Executing statements if no exception encountered\n",
    "\n",
    "# Simple addition of two numbers using user input\n",
    "\n",
    "try:\n",
    "    num1 = int(input(\"Enter num1: \"))\n",
    "    num2 = int(input(\"Enter num2: \"))\n",
    "except ValueError:\n",
    "    print(\"Please enter a numeric value\")\n",
    "else:\n",
    "    result = num1 + num2\n",
    "    print(f\"Addition of {num1} and {num2} is {result}\")"
   ]
  },
  {
   "cell_type": "code",
   "execution_count": 18,
   "id": "1dd31f80-261b-4c97-a0a7-54fe51f0fcf7",
   "metadata": {},
   "outputs": [
    {
     "name": "stdin",
     "output_type": "stream",
     "text": [
      "Enter num1:  3\n",
      "Enter num2:  4\n"
     ]
    },
    {
     "name": "stdout",
     "output_type": "stream",
     "text": [
      "Addition of 3 and 4 is 7\n",
      "Thanks for using this app !\n"
     ]
    }
   ],
   "source": [
    "# The finally clause --- Code to execute regardless of exceptions\n",
    "\n",
    "try:\n",
    "    num1 = int(input(\"Enter num1: \"))\n",
    "    num2 = int(input(\"Enter num2: \"))\n",
    "except ValueError:\n",
    "    print(\"Please enter a numeric value\")\n",
    "else:\n",
    "    result = num1 + num2\n",
    "    print(f\"Addition of {num1} and {num2} is {result}\")\n",
    "    \n",
    "finally:\n",
    "    print(\"Thanks for using this app !\")"
   ]
  },
  {
   "cell_type": "code",
   "execution_count": null,
   "id": "b4a4cd18-4d00-40e1-bee3-36672d7e26e7",
   "metadata": {},
   "outputs": [],
   "source": []
  }
 ],
 "metadata": {
  "kernelspec": {
   "display_name": "Python 3 [3.10]",
   "language": "python",
   "name": "python3"
  },
  "language_info": {
   "codemirror_mode": {
    "name": "ipython",
    "version": 3
   },
   "file_extension": ".py",
   "mimetype": "text/x-python",
   "name": "python",
   "nbconvert_exporter": "python",
   "pygments_lexer": "ipython3",
   "version": "3.10.2"
  }
 },
 "nbformat": 4,
 "nbformat_minor": 5
}
