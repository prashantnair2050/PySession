{
  "cells": [
    {
      "cell_type": "markdown",
      "id": "197df646",
      "metadata": {
        "id": "197df646"
      },
      "source": [
        "# Global and Local Variables in Python"
      ]
    },
    {
      "cell_type": "markdown",
      "id": "7754da3d",
      "metadata": {
        "id": "7754da3d"
      },
      "source": [
        "\n",
        "In Python, variables that are defined inside a function body have a local scope, and those defined outside have a global scope. This means that local variables can be accessed only inside the function in which they are declared, whereas global variables can be accessed throughout the program body by all functions. In this part of the tutorial, we will explore how global and local variables are used in Python programs.\n"
      ]
    },
    {
      "cell_type": "markdown",
      "id": "69c7866c",
      "metadata": {
        "id": "69c7866c"
      },
      "source": [
        "## Local Variables"
      ]
    },
    {
      "cell_type": "code",
      "execution_count": 3,
      "id": "9cdcb6f8",
      "metadata": {
        "colab": {
          "base_uri": "https://localhost:8080/"
        },
        "id": "9cdcb6f8",
        "outputId": "aeeaf5a1-591f-442f-9023-955750e7b626"
      },
      "outputs": [
        {
          "output_type": "stream",
          "name": "stdout",
          "text": [
            "I am local\n"
          ]
        }
      ],
      "source": [
        "\n",
        "def function():\n",
        "    # This is a local variable\n",
        "    a_local_variable = \"I am local\"\n",
        "    print(a_local_variable)\n",
        "\n",
        "function()\n",
        "# Trying to access a_local_variable outside the function will raise an error\n",
        "#print(a_local_variable)  # Uncommenting this line will raise an error\n"
      ]
    },
    {
      "cell_type": "markdown",
      "id": "4b322678",
      "metadata": {
        "id": "4b322678"
      },
      "source": [
        "## Global Variables"
      ]
    },
    {
      "cell_type": "code",
      "execution_count": 5,
      "id": "e15b1095",
      "metadata": {
        "colab": {
          "base_uri": "https://localhost:8080/"
        },
        "id": "e15b1095",
        "outputId": "a58da600-1a1f-4d93-ea75-5eb3e0d006ed"
      },
      "outputs": [
        {
          "output_type": "stream",
          "name": "stdout",
          "text": [
            "I am global\n",
            "I am global\n"
          ]
        }
      ],
      "source": [
        "\n",
        "# This is a global variable\n",
        "a_global_variable = \"I am global\"\n",
        "\n",
        "def function():\n",
        "    # We can access a_global_variable here\n",
        "    print(a_global_variable)\n",
        "\n",
        "function()\n",
        "print(a_global_variable)  # This will work fine\n"
      ]
    },
    {
      "cell_type": "markdown",
      "id": "c20eaa2a",
      "metadata": {
        "id": "c20eaa2a"
      },
      "source": [
        "\n",
        "### The `global` Keyword\n",
        "If you want to modify a global variable inside a function, you can use the `global` keyword to declare which variables are global.\n"
      ]
    },
    {
      "cell_type": "code",
      "execution_count": 6,
      "id": "dcebb74c",
      "metadata": {
        "colab": {
          "base_uri": "https://localhost:8080/"
        },
        "id": "dcebb74c",
        "outputId": "13ec872c-165e-420d-f122-d0fb634ed61c"
      },
      "outputs": [
        {
          "output_type": "stream",
          "name": "stdout",
          "text": [
            "original value\n",
            "modified value\n"
          ]
        }
      ],
      "source": [
        "\n",
        "global_variable = \"original value\"\n",
        "\n",
        "def function():\n",
        "    global global_variable\n",
        "    global_variable = \"modified value\"\n",
        "\n",
        "print(global_variable)  # Before the function call\n",
        "function()\n",
        "print(global_variable)  # After the function call\n"
      ]
    },
    {
      "cell_type": "markdown",
      "id": "e2e67af1",
      "metadata": {
        "id": "e2e67af1"
      },
      "source": [
        "# Callback Functions in Python"
      ]
    },
    {
      "cell_type": "markdown",
      "id": "51907389",
      "metadata": {
        "id": "51907389"
      },
      "source": [
        "\n",
        "A callback function is a function that is passed into another function as an argument and is expected to execute after some kind of event. This allows for a more dynamic flow of execution and can be particularly useful in asynchronous programming, event handling, and in scenarios where certain tasks need to be performed after another task has been completed.\n"
      ]
    },
    {
      "cell_type": "markdown",
      "id": "e18af7ed",
      "metadata": {
        "id": "e18af7ed"
      },
      "source": [
        "## Example of a Callback Function"
      ]
    },
    {
      "cell_type": "code",
      "execution_count": 8,
      "id": "1ce22ab8",
      "metadata": {
        "colab": {
          "base_uri": "https://localhost:8080/"
        },
        "id": "1ce22ab8",
        "outputId": "95e76420-f636-4f65-c9ad-bcebcde7a59e"
      },
      "outputs": [
        {
          "output_type": "stream",
          "name": "stdout",
          "text": [
            "Hello Python\n"
          ]
        }
      ],
      "source": [
        "\n",
        "def greeting(name):\n",
        "    print(\"Hello\", name)\n",
        "\n",
        "def call_function(var1):\n",
        "    name = \"Python\"\n",
        "    var1(name)\n",
        "\n",
        "call_function(greeting)  # Passing the greeting function as a callback\n"
      ]
    },
    {
      "cell_type": "markdown",
      "id": "1da691ae",
      "metadata": {
        "id": "1da691ae"
      },
      "source": [
        "\n",
        "## Conclusion\n",
        "In this tutorial, we've covered the concepts of global and local variables in Python, and how to use the `global` keyword to modify global variables inside a function. We've also introduced callback functions, illustrating how they can be passed to other functions as arguments and executed after certain events. These concepts are fundamental in Python programming, allowing for more flexible and organized code.\n"
      ]
    }
  ],
  "metadata": {
    "colab": {
      "provenance": []
    },
    "language_info": {
      "name": "python"
    },
    "kernelspec": {
      "name": "python3",
      "display_name": "Python 3"
    }
  },
  "nbformat": 4,
  "nbformat_minor": 5
}