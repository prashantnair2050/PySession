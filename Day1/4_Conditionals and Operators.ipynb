{
 "cells": [
  {
   "cell_type": "code",
   "execution_count": 1,
   "metadata": {},
   "outputs": [],
   "source": [
    "# Operators and Conditional Statements\n",
    "#\n",
    "# Comparison Operators\n",
    "#  > ---- Greater Than\n",
    "#  < ---- Less Than\n",
    "#  >= --- Greater Than Equal To\n",
    "#  <= --- Less Than Equal To\n",
    "#  != --- Not Equal To\n",
    "#  == --- Equal To \n",
    "\n",
    "#Logical Operators\n",
    "# and\n",
    "# or\n",
    "# not"
   ]
  },
  {
   "cell_type": "code",
   "execution_count": 2,
   "metadata": {},
   "outputs": [],
   "source": [
    "#Conditional Statement\n",
    "# 1. if statement\n",
    "# 2. if .. else statement\n",
    "# 3. if .. elif statement"
   ]
  },
  {
   "cell_type": "code",
   "execution_count": 5,
   "metadata": {},
   "outputs": [
    {
     "name": "stdin",
     "output_type": "stream",
     "text": [
      "Enter Number:  13\n"
     ]
    },
    {
     "name": "stdout",
     "output_type": "stream",
     "text": [
      "Greater Than 10\n",
      "Testing\n",
      "jjjj\n"
     ]
    }
   ],
   "source": [
    "# if statement\n",
    "# \n",
    "# In this expression we can supply one condition. If that condition is met, it will execute the operation/logic\n",
    "#\n",
    "# Syntax:\n",
    "#  \n",
    "#  if expression :\n",
    "#      statement/logic\n",
    "#      statement/logic\n",
    "\n",
    "num = int(input(\"Enter Number: \"))\n",
    "\n",
    "if num > 10:\n",
    "    print(\"Greater Than 10\")\n",
    "    print(\"Testing\")\n",
    "    print(\"jjjj\")"
   ]
  },
  {
   "cell_type": "code",
   "execution_count": 7,
   "metadata": {},
   "outputs": [
    {
     "name": "stdin",
     "output_type": "stream",
     "text": [
      "Enter Number:  8\n"
     ]
    },
    {
     "name": "stdout",
     "output_type": "stream",
     "text": [
      "Less than or equal to 10\n"
     ]
    }
   ],
   "source": [
    "# if else statement\n",
    "#\n",
    "# In this expression we can supply binary condition\n",
    "#\n",
    "# Syntax:\n",
    "#\n",
    "#  if expression1 :\n",
    "#       action1\n",
    "#  else:\n",
    "#       action2\n",
    "\n",
    "num = int(input(\"Enter Number: \"))\n",
    "\n",
    "if num > 10:\n",
    "    print(\"Greater Than 10\")\n",
    "else:\n",
    "    print(\"Less than or equal to 10\")\n",
    "    "
   ]
  },
  {
   "cell_type": "code",
   "execution_count": 11,
   "metadata": {},
   "outputs": [
    {
     "name": "stdin",
     "output_type": "stream",
     "text": [
      "Enter Number:  22\n"
     ]
    },
    {
     "name": "stdout",
     "output_type": "stream",
     "text": [
      "Greater Than 10\n"
     ]
    }
   ],
   "source": [
    "# elif ladder | if .... elif ... else statement\n",
    "#\n",
    "# In this expression you can supply multiple conditions\n",
    "#\n",
    "\n",
    "num = int(input(\"Enter Number: \"))\n",
    "\n",
    "if num > 10:\n",
    "    print(\"Greater Than 10\")\n",
    "elif num == 10:\n",
    "    print(\"Equal To 10\")\n",
    "else:\n",
    "    print(\"Less than 10\")"
   ]
  },
  {
   "cell_type": "code",
   "execution_count": 13,
   "metadata": {},
   "outputs": [
    {
     "name": "stdin",
     "output_type": "stream",
     "text": [
      "Enter Number:  5\n"
     ]
    },
    {
     "name": "stdout",
     "output_type": "stream",
     "text": [
      "Dont Know\n"
     ]
    }
   ],
   "source": [
    "num = int(input(\"Enter Number: \"))\n",
    "\n",
    "if num == 1:\n",
    "    print(\"One\")\n",
    "elif num == 2:\n",
    "    print(\"Two\")\n",
    "elif num == 3:\n",
    "    print(\"Three\")\n",
    "elif num == 4:\n",
    "    print(\"four\")\n",
    "else:\n",
    "    print(\"Dont Know\")"
   ]
  },
  {
   "cell_type": "code",
   "execution_count": null,
   "metadata": {},
   "outputs": [],
   "source": []
  }
 ],
 "metadata": {
  "kernelspec": {
   "display_name": "Python 3",
   "language": "python",
   "name": "python3"
  },
  "language_info": {
   "codemirror_mode": {
    "name": "ipython",
    "version": 3
   },
   "file_extension": ".py",
   "mimetype": "text/x-python",
   "name": "python",
   "nbconvert_exporter": "python",
   "pygments_lexer": "ipython3",
   "version": "3.7.6"
  }
 },
 "nbformat": 4,
 "nbformat_minor": 4
}
