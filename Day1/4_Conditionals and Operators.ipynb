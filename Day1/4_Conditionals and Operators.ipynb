{
 "cells": [
  {
   "cell_type": "code",
   "execution_count": 1,
   "metadata": {},
   "outputs": [],
   "source": [
    "# Operators and Conditional Statements\n",
    "#\n",
    "# Comparison Operators\n",
    "#  > ---- Greater Than\n",
    "#  < ---- Less Than\n",
    "#  >= --- Greater Than Equal To\n",
    "#  <= --- Less Than Equal To\n",
    "#  != --- Not Equal To\n",
    "#  == --- Equal To \n",
    "\n",
    "#Logical Operators\n",
    "# and\n",
    "# or\n",
    "# not\n",
    "\n",
    "\n",
    "#Arithmetic Operators\n",
    "# + addition\n",
    "# - subtraction\n",
    "# * multiplication\n",
    "# / division (quotient)\n",
    "# % remainder in division\n",
    "# ** raise to (indices)"
   ]
  },
  {
   "cell_type": "code",
   "execution_count": 20,
   "metadata": {},
   "outputs": [
    {
     "data": {
      "text/plain": [
       "5"
      ]
     },
     "execution_count": 20,
     "metadata": {},
     "output_type": "execute_result"
    }
   ],
   "source": [
    "2 + 3"
   ]
  },
  {
   "cell_type": "code",
   "execution_count": 21,
   "metadata": {},
   "outputs": [
    {
     "data": {
      "text/plain": [
       "1"
      ]
     },
     "execution_count": 21,
     "metadata": {},
     "output_type": "execute_result"
    }
   ],
   "source": [
    "3-2"
   ]
  },
  {
   "cell_type": "code",
   "execution_count": 22,
   "metadata": {},
   "outputs": [
    {
     "data": {
      "text/plain": [
       "12"
      ]
     },
     "execution_count": 22,
     "metadata": {},
     "output_type": "execute_result"
    }
   ],
   "source": [
    "3*4"
   ]
  },
  {
   "cell_type": "code",
   "execution_count": 23,
   "metadata": {},
   "outputs": [
    {
     "data": {
      "text/plain": [
       "9"
      ]
     },
     "execution_count": 23,
     "metadata": {},
     "output_type": "execute_result"
    }
   ],
   "source": [
    "3**2 "
   ]
  },
  {
   "cell_type": "code",
   "execution_count": 24,
   "metadata": {},
   "outputs": [
    {
     "data": {
      "text/plain": [
       "0"
      ]
     },
     "execution_count": 24,
     "metadata": {},
     "output_type": "execute_result"
    }
   ],
   "source": [
    "10 % 2"
   ]
  },
  {
   "cell_type": "code",
   "execution_count": 25,
   "metadata": {},
   "outputs": [
    {
     "data": {
      "text/plain": [
       "5.0"
      ]
     },
     "execution_count": 25,
     "metadata": {},
     "output_type": "execute_result"
    }
   ],
   "source": [
    "10 / 2"
   ]
  },
  {
   "cell_type": "code",
   "execution_count": 2,
   "metadata": {},
   "outputs": [],
   "source": [
    "#Conditional Statement\n",
    "# 1. if statement\n",
    "# 2. if .. else statement\n",
    "# 3. if .. elif statement"
   ]
  },
  {
   "cell_type": "code",
   "execution_count": 5,
   "metadata": {},
   "outputs": [
    {
     "name": "stdin",
     "output_type": "stream",
     "text": [
      "Enter Number:  13\n"
     ]
    },
    {
     "name": "stdout",
     "output_type": "stream",
     "text": [
      "Greater Than 10\n",
      "Testing\n",
      "jjjj\n"
     ]
    }
   ],
   "source": [
    "# if statement\n",
    "# \n",
    "# In this expression we can supply one condition. If that condition is met, it will execute the operation/logic\n",
    "#\n",
    "# Syntax:\n",
    "#  \n",
    "#  if expression :\n",
    "#      statement/logic\n",
    "#      statement/logic\n",
    "\n",
    "num = int(input(\"Enter Number: \"))\n",
    "\n",
    "if num > 10:\n",
    "    print(\"Greater Than 10\")\n",
    "    print(\"Testing\")\n",
    "    print(\"jjjj\")"
   ]
  },
  {
   "cell_type": "code",
   "execution_count": 7,
   "metadata": {},
   "outputs": [
    {
     "name": "stdin",
     "output_type": "stream",
     "text": [
      "Enter Number:  8\n"
     ]
    },
    {
     "name": "stdout",
     "output_type": "stream",
     "text": [
      "Less than or equal to 10\n"
     ]
    }
   ],
   "source": [
    "# if else statement\n",
    "#\n",
    "# In this expression we can supply binary condition\n",
    "#\n",
    "# Syntax:\n",
    "#\n",
    "#  if expression1 :\n",
    "#       action1\n",
    "#  else:\n",
    "#       action2\n",
    "\n",
    "num = int(input(\"Enter Number: \"))\n",
    "\n",
    "if num > 10:\n",
    "    print(\"Greater Than 10\")\n",
    "else:\n",
    "    print(\"Less than or equal to 10\")\n",
    "    "
   ]
  },
  {
   "cell_type": "code",
   "execution_count": 11,
   "metadata": {},
   "outputs": [
    {
     "name": "stdin",
     "output_type": "stream",
     "text": [
      "Enter Number:  22\n"
     ]
    },
    {
     "name": "stdout",
     "output_type": "stream",
     "text": [
      "Greater Than 10\n"
     ]
    }
   ],
   "source": [
    "# elif ladder | if .... elif ... else statement\n",
    "#\n",
    "# In this expression you can supply multiple conditions\n",
    "#\n",
    "\n",
    "num = int(input(\"Enter Number: \"))\n",
    "\n",
    "if num > 10:\n",
    "    print(\"Greater Than 10\")\n",
    "elif num == 10:\n",
    "    print(\"Equal To 10\")\n",
    "else:\n",
    "    print(\"Less than 10\")"
   ]
  },
  {
   "cell_type": "code",
   "execution_count": 17,
   "metadata": {},
   "outputs": [
    {
     "name": "stdin",
     "output_type": "stream",
     "text": [
      "Enter Number:  4.99999888877776666633366666\n"
     ]
    },
    {
     "name": "stdout",
     "output_type": "stream",
     "text": [
      "Dont Know\n"
     ]
    }
   ],
   "source": [
    "num = float(input(\"Enter Number: \"))\n",
    "\n",
    "if num == 1:\n",
    "    print(\"One\")\n",
    "elif num == 2:\n",
    "    print(\"Two\")\n",
    "elif num == 3:\n",
    "    print(\"Three\")\n",
    "elif num == 4:\n",
    "    print(\"four\")\n",
    "else:\n",
    "    print(\"Dont Know\")"
   ]
  },
  {
   "cell_type": "code",
   "execution_count": 18,
   "metadata": {},
   "outputs": [
    {
     "data": {
      "text/plain": [
       "4.999998888777767"
      ]
     },
     "execution_count": 18,
     "metadata": {},
     "output_type": "execute_result"
    }
   ],
   "source": [
    "num"
   ]
  },
  {
   "cell_type": "code",
   "execution_count": 19,
   "metadata": {},
   "outputs": [
    {
     "name": "stdin",
     "output_type": "stream",
     "text": [
      "Enter a number:  20\n"
     ]
    },
    {
     "name": "stdout",
     "output_type": "stream",
     "text": [
      "Better\n"
     ]
    }
   ],
   "source": [
    "# Accept the number from the user and display the following based on the given conditions\n",
    "# Number between 1 to 10 ------> Good\n",
    "# Number between 11 to 20 -----> Better\n",
    "# Number between 20 to 30 -----> Best\n",
    "# Number after 30 -------------> Exceeded Expectation\n",
    "\n",
    "\n",
    "num = int(input(\"Enter a number: \"))\n",
    "\n",
    "if num>=1 and num<=10:\n",
    "    print(\"Good\")\n",
    "elif num>=11 and num<=20:\n",
    "    print(\"Better\")\n",
    "elif num>=21 and num<=30:\n",
    "    print(\"Best\")\n",
    "else:\n",
    "    print(\"Exceeded Expectation\")"
   ]
  },
  {
   "cell_type": "code",
   "execution_count": 26,
   "metadata": {},
   "outputs": [
    {
     "name": "stdin",
     "output_type": "stream",
     "text": [
      "Enter a number:  6\n"
     ]
    },
    {
     "name": "stdout",
     "output_type": "stream",
     "text": [
      "Even\n"
     ]
    }
   ],
   "source": [
    "#Accept a number from the user and check if the given number is an even number or odd number\n",
    "\n",
    "num = int(input(\"Enter a number: \"))\n",
    "\n",
    "if num % 2 == 0:\n",
    "    print(\"Even\")\n",
    "else:\n",
    "    print(\"Odd\")\n"
   ]
  },
  {
   "cell_type": "code",
   "execution_count": 27,
   "metadata": {},
   "outputs": [
    {
     "name": "stdin",
     "output_type": "stream",
     "text": [
      "Enter Salary: 233223\n",
      "Enter Credit Score (0-800):  133\n",
      "Are you a student (Y/N):  N\n"
     ]
    },
    {
     "name": "stdout",
     "output_type": "stream",
     "text": [
      "Accepted\n"
     ]
    }
   ],
   "source": [
    "#Question: Loan App Example\n",
    "\n",
    "# Approve the loan of the customer if the sal is greater than 8000 and the credit score is greater than 700\n",
    "# The applicant must not be a student\n",
    "# if the applicant is a student reject the loan irrespective of the sal and credit condition\n",
    "\n",
    "#User input\n",
    "\n",
    "# Enter Salary:\n",
    "# Enter Credit Score (0-800):\n",
    "# Are you a student (Y/N):\n",
    "\n",
    "\n",
    "salary = int(input('Enter Salary:'))\n",
    "credit_score = int(input(\"Enter Credit Score (0-800): \"))\n",
    "student = input(\"Are you a student (Y/N): \").lower()\n",
    "if student == 'y':\n",
    "  print('rejected')\n",
    "elif salary <=8000 and credit_score >=700:\n",
    "  print('rejected')\n",
    "else:\n",
    "  print(\"Accepted\")\n"
   ]
  },
  {
   "cell_type": "code",
   "execution_count": null,
   "metadata": {},
   "outputs": [],
   "source": [
    "#Correct the code "
   ]
  },
  {
   "cell_type": "code",
   "execution_count": 28,
   "metadata": {},
   "outputs": [
    {
     "name": "stdout",
     "output_type": "stream",
     "text": [
      "Even\n"
     ]
    }
   ],
   "source": [
    "# Ternary Operators ---- Shorthand Operator for if else\n",
    "#\n",
    "# TrueConditionAction  if condition else FalseAction\n",
    "\n",
    "num1 = 10\n",
    "\n",
    "if num1 % 2 == 0:\n",
    "    print(\"Even\")\n",
    "else:\n",
    "    print(\"Odd\")\n"
   ]
  },
  {
   "cell_type": "code",
   "execution_count": 29,
   "metadata": {},
   "outputs": [
    {
     "name": "stdin",
     "output_type": "stream",
     "text": [
      "Enter Number:  2\n"
     ]
    },
    {
     "data": {
      "text/plain": [
       "'Even'"
      ]
     },
     "execution_count": 29,
     "metadata": {},
     "output_type": "execute_result"
    }
   ],
   "source": [
    "num1 = int(input(\"Enter Number: \"))\n",
    "\"Even\" if num1 % 2 == 0 else \"Odd\""
   ]
  },
  {
   "cell_type": "code",
   "execution_count": null,
   "metadata": {},
   "outputs": [],
   "source": []
  }
 ],
 "metadata": {
  "kernelspec": {
   "display_name": "Python 3",
   "language": "python",
   "name": "python3"
  },
  "language_info": {
   "codemirror_mode": {
    "name": "ipython",
    "version": 3
   },
   "file_extension": ".py",
   "mimetype": "text/x-python",
   "name": "python",
   "nbconvert_exporter": "python",
   "pygments_lexer": "ipython3",
   "version": "3.7.6"
  }
 },
 "nbformat": 4,
 "nbformat_minor": 4
}
