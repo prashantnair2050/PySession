{
 "cells": [
  {
   "cell_type": "code",
   "execution_count": 1,
   "metadata": {},
   "outputs": [],
   "source": [
    "num1 = 10"
   ]
  },
  {
   "cell_type": "code",
   "execution_count": 2,
   "metadata": {},
   "outputs": [
    {
     "data": {
      "text/plain": [
       "10"
      ]
     },
     "execution_count": 2,
     "metadata": {},
     "output_type": "execute_result"
    }
   ],
   "source": [
    "num1"
   ]
  },
  {
   "cell_type": "code",
   "execution_count": 3,
   "metadata": {},
   "outputs": [],
   "source": [
    "# Print Statement"
   ]
  },
  {
   "cell_type": "code",
   "execution_count": 4,
   "metadata": {},
   "outputs": [
    {
     "name": "stdout",
     "output_type": "stream",
     "text": [
      "10\n"
     ]
    }
   ],
   "source": [
    "#Printing the value(assigned value) of the variable\n",
    "print(num1)"
   ]
  },
  {
   "cell_type": "code",
   "execution_count": 5,
   "metadata": {},
   "outputs": [
    {
     "name": "stdout",
     "output_type": "stream",
     "text": [
      "Welcome to Python Programming\n"
     ]
    }
   ],
   "source": [
    "#Using Double Quotes in Print Statement\n",
    "\n",
    "print(\"Welcome to Python Programming\")"
   ]
  },
  {
   "cell_type": "code",
   "execution_count": 6,
   "metadata": {},
   "outputs": [
    {
     "name": "stdout",
     "output_type": "stream",
     "text": [
      "Welcome to Python\n"
     ]
    }
   ],
   "source": [
    "#Using Single Quote in Print Statement\n",
    "\n",
    "print('Welcome to Python')"
   ]
  },
  {
   "cell_type": "code",
   "execution_count": 12,
   "metadata": {},
   "outputs": [
    {
     "name": "stdout",
     "output_type": "stream",
     "text": [
      "Welcome to 'Python'\n"
     ]
    }
   ],
   "source": [
    "# Situation is what if the string itself have single quotes\n",
    "#\n",
    "print(\"Welcome to 'Python'\")"
   ]
  },
  {
   "cell_type": "code",
   "execution_count": 13,
   "metadata": {},
   "outputs": [
    {
     "name": "stdout",
     "output_type": "stream",
     "text": [
      "Welcome to 'Python'\n"
     ]
    }
   ],
   "source": [
    "#Use Escape character '\\'\n",
    "print('Welcome to \\'Python\\'')"
   ]
  },
  {
   "cell_type": "code",
   "execution_count": 7,
   "metadata": {},
   "outputs": [
    {
     "name": "stdout",
     "output_type": "stream",
     "text": [
      " Welcome to Python\n",
      "=============================================\n",
      "This is your Instructor Prashant Nair \n"
     ]
    }
   ],
   "source": [
    "#Using Triple Quotes in Print Statement\n",
    "# For Multi Line Printing\n",
    "\n",
    "print(\"\"\" Welcome to Python\n",
    "=============================================\n",
    "This is your Instructor Prashant Nair \"\"\")"
   ]
  },
  {
   "cell_type": "code",
   "execution_count": null,
   "metadata": {},
   "outputs": [],
   "source": []
  },
  {
   "cell_type": "code",
   "execution_count": 10,
   "metadata": {},
   "outputs": [
    {
     "name": "stdout",
     "output_type": "stream",
     "text": [
      "Welcome to Python\n",
      "=============================================\n",
      "This is your Instructor Prashant Nair\n",
      "\n"
     ]
    }
   ],
   "source": [
    "print(\"Welcome to Python\\n=============================================\\nThis is your Instructor Prashant Nair\\n\")"
   ]
  },
  {
   "cell_type": "code",
   "execution_count": 14,
   "metadata": {},
   "outputs": [
    {
     "name": "stdout",
     "output_type": "stream",
     "text": [
      "10\n"
     ]
    }
   ],
   "source": [
    "# Using Variable\n",
    "\n",
    "num1 = 10\n",
    "\n",
    "print(num1)"
   ]
  },
  {
   "cell_type": "code",
   "execution_count": 15,
   "metadata": {},
   "outputs": [
    {
     "name": "stdout",
     "output_type": "stream",
     "text": [
      "Given num1 contains  10\n"
     ]
    }
   ],
   "source": [
    "#\n",
    "#Given num1 contains 10\n",
    "print(\"Given num1 contains \",num1)"
   ]
  },
  {
   "cell_type": "code",
   "execution_count": 16,
   "metadata": {},
   "outputs": [
    {
     "name": "stdout",
     "output_type": "stream",
     "text": [
      "Given num1 contains 10\n"
     ]
    }
   ],
   "source": [
    "#Given num1 contains 10\n",
    "print(\"Given num1 contains {}\".format(num1))"
   ]
  },
  {
   "cell_type": "code",
   "execution_count": 17,
   "metadata": {},
   "outputs": [
    {
     "name": "stdout",
     "output_type": "stream",
     "text": [
      "There are two numbers num1 is 10 and num2 is 20\n"
     ]
    }
   ],
   "source": [
    "num1 = 10\n",
    "num2 = 20\n",
    "\n",
    "print(\"There are two numbers num1 is {} and num2 is {}\".format(num1,num2))"
   ]
  },
  {
   "cell_type": "code",
   "execution_count": 23,
   "metadata": {},
   "outputs": [
    {
     "name": "stdout",
     "output_type": "stream",
     "text": [
      "Prashant selected two numbers. num1 is 10 and num2 is 20.9\n",
      "Prashant selected two numbers. num1 is 10 and num2 is 20.900000\n",
      "Prashant selected two numbers. num1 is 10 and num2 is 20.9\n"
     ]
    }
   ],
   "source": [
    "#String Adapters\n",
    "#\n",
    "# %d --- integer\n",
    "# %s --- string\n",
    "# %e --- exponential\n",
    "# %f --- float\n",
    "\n",
    "\n",
    "num1 = 10\n",
    "num2 = 20.9\n",
    "name = \"Prashant\"\n",
    "\n",
    "print(\"{} selected two numbers. num1 is {} and num2 is {}\".format(name,num1,num2))\n",
    "print(\"%s selected two numbers. num1 is %d and num2 is %f\" %(name,num1,num2))\n",
    "print(f\"{name} selected two numbers. num1 is {num1} and num2 is {num2}\")"
   ]
  },
  {
   "cell_type": "code",
   "execution_count": null,
   "metadata": {},
   "outputs": [],
   "source": []
  }
 ],
 "metadata": {
  "kernelspec": {
   "display_name": "Python 3",
   "language": "python",
   "name": "python3"
  },
  "language_info": {
   "codemirror_mode": {
    "name": "ipython",
    "version": 3
   },
   "file_extension": ".py",
   "mimetype": "text/x-python",
   "name": "python",
   "nbconvert_exporter": "python",
   "pygments_lexer": "ipython3",
   "version": "3.7.6"
  }
 },
 "nbformat": 4,
 "nbformat_minor": 4
}
