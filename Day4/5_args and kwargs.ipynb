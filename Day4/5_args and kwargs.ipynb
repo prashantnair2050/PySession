{
 "cells": [
  {
   "cell_type": "code",
   "execution_count": 1,
   "id": "ee3cc7d6-bb62-4d0a-9b13-b271f32f4c95",
   "metadata": {},
   "outputs": [],
   "source": [
    "# *args and **kwargs --- parameters to your function\n",
    "\n",
    "# *args --- This keyword allows a function to collect n number of values dynamically in the form of Tuple"
   ]
  },
  {
   "cell_type": "code",
   "execution_count": 7,
   "id": "be745286-8c9b-4fb5-85c4-fc3aaaa8160b",
   "metadata": {},
   "outputs": [],
   "source": [
    "def totalSum(*args):\n",
    "    print(type(args))\n",
    "    print(args)\n",
    "    return sum(args)"
   ]
  },
  {
   "cell_type": "code",
   "execution_count": 8,
   "id": "1f786d54-fb98-467e-b741-6f70e0b68664",
   "metadata": {},
   "outputs": [
    {
     "name": "stdout",
     "output_type": "stream",
     "text": [
      "<class 'tuple'>\n",
      "(1, 2, 3, 4)\n"
     ]
    },
    {
     "data": {
      "text/plain": [
       "10"
      ]
     },
     "execution_count": 8,
     "metadata": {},
     "output_type": "execute_result"
    }
   ],
   "source": [
    "totalSum(1,2,3,4)"
   ]
  },
  {
   "cell_type": "code",
   "execution_count": 9,
   "id": "fae4790e-df43-461c-a036-faea99c04f2b",
   "metadata": {},
   "outputs": [],
   "source": [
    "# *kwargs --- keyword (k,v pairs) \n",
    "# Your data will be represented in the form of dictionary\n",
    "\n",
    "def test(**kwargs):\n",
    "    print(kwargs)"
   ]
  },
  {
   "cell_type": "code",
   "execution_count": 13,
   "id": "77a4e680-32ab-4da4-a1df-5a533934001c",
   "metadata": {},
   "outputs": [
    {
     "name": "stdout",
     "output_type": "stream",
     "text": [
      "{'Maharashtra': 'Mumbai', 'Karnataka': 'Bengaluru'}\n"
     ]
    }
   ],
   "source": [
    "test(Maharashtra=\"Mumbai\" , Karnataka=\"Bengaluru\")"
   ]
  },
  {
   "cell_type": "code",
   "execution_count": 15,
   "id": "6d859d0b-da3e-420a-98c4-9b1b881d8dbe",
   "metadata": {},
   "outputs": [],
   "source": [
    "def test2(*args,**kwargs):\n",
    "    print(kwargs)\n",
    "    print(args)"
   ]
  },
  {
   "cell_type": "code",
   "execution_count": 16,
   "id": "92ec5cab-6f8d-4729-9e35-597eabb7a007",
   "metadata": {},
   "outputs": [
    {
     "ename": "SyntaxError",
     "evalue": "positional argument follows keyword argument (3401094089.py, line 1)",
     "output_type": "error",
     "traceback": [
      "\u001b[0;36m  File \u001b[0;32m\"/tmp/ipykernel_357/3401094089.py\"\u001b[0;36m, line \u001b[0;32m1\u001b[0m\n\u001b[0;31m    test2(\"Hello\",state=\"California\",\"Welcome\",fruit=\"Mango\")\u001b[0m\n\u001b[0m                                                            ^\u001b[0m\n\u001b[0;31mSyntaxError\u001b[0m\u001b[0;31m:\u001b[0m positional argument follows keyword argument\n"
     ]
    }
   ],
   "source": [
    "test2(\"Hello\",state=\"California\",\"Welcome\",fruit=\"Mango\")"
   ]
  },
  {
   "cell_type": "code",
   "execution_count": 18,
   "id": "a7da2b24-fc34-4ef5-87c8-1611dc5722da",
   "metadata": {},
   "outputs": [
    {
     "name": "stdout",
     "output_type": "stream",
     "text": [
      "{'state': 'California', 'fruit': 'Mango'}\n",
      "('Hello', 'Welcome')\n"
     ]
    }
   ],
   "source": [
    "test2(\"Hello\",\"Welcome\",state=\"California\",fruit=\"Mango\")"
   ]
  },
  {
   "cell_type": "code",
   "execution_count": null,
   "id": "c54c0b3b-d8b0-475b-9c17-8db8fb5b1e66",
   "metadata": {},
   "outputs": [],
   "source": [
    "#Ordering of args and kwargs is mandatory"
   ]
  },
  {
   "cell_type": "code",
   "execution_count": null,
   "id": "437d5559-fe92-4df4-a673-9f6d6b3eafc5",
   "metadata": {},
   "outputs": [],
   "source": []
  }
 ],
 "metadata": {
  "kernelspec": {
   "display_name": "Python 3 [3.10]",
   "language": "python",
   "name": "python3"
  },
  "language_info": {
   "codemirror_mode": {
    "name": "ipython",
    "version": 3
   },
   "file_extension": ".py",
   "mimetype": "text/x-python",
   "name": "python",
   "nbconvert_exporter": "python",
   "pygments_lexer": "ipython3",
   "version": "3.10.2"
  }
 },
 "nbformat": 4,
 "nbformat_minor": 5
}
