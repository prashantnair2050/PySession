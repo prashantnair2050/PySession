{
 "cells": [
  {
   "cell_type": "code",
   "execution_count": 1,
   "id": "b77cfef9-80c5-40c7-a582-179907c6217f",
   "metadata": {},
   "outputs": [],
   "source": [
    "# Functions are Reusable codes\n",
    "# Functions are of two types\n",
    "#  1. Built-in function | Pre-defined Functions ------- str(), int(),append(),len(),upper()\n",
    "#  2. Custom Function | User-defined Functions"
   ]
  },
  {
   "cell_type": "code",
   "execution_count": 2,
   "id": "55a71e96-f717-4318-912f-1c64b440e4be",
   "metadata": {},
   "outputs": [],
   "source": [
    "# Syntax:\n",
    "# \n",
    "# def functionName(parameters):\n",
    "#       logic/body\n",
    "#"
   ]
  },
  {
   "cell_type": "code",
   "execution_count": 3,
   "id": "1eddbe0b-83be-4506-a87c-b6804e6ea006",
   "metadata": {},
   "outputs": [],
   "source": [
    "# Simple Function that greets the user\n",
    "\n",
    "def greetUser(name):\n",
    "    print(\"Hello \",name)"
   ]
  },
  {
   "cell_type": "code",
   "execution_count": 4,
   "id": "cbc4d9f2-7ea3-4773-b6ee-d6bfba6cb808",
   "metadata": {},
   "outputs": [
    {
     "name": "stdout",
     "output_type": "stream",
     "text": [
      "Hello  Prashant\n"
     ]
    }
   ],
   "source": [
    "greetUser(\"Prashant\")"
   ]
  },
  {
   "cell_type": "code",
   "execution_count": 5,
   "id": "099adb90-421c-48e3-9122-6cc566aa0baf",
   "metadata": {},
   "outputs": [
    {
     "data": {
      "text/plain": [
       "function"
      ]
     },
     "execution_count": 5,
     "metadata": {},
     "output_type": "execute_result"
    }
   ],
   "source": [
    "type(greetUser)"
   ]
  },
  {
   "cell_type": "code",
   "execution_count": 6,
   "id": "defefed1-89bb-461e-9162-57dc073769c0",
   "metadata": {},
   "outputs": [
    {
     "data": {
      "text/plain": [
       "\u001b[0;31mSignature:\u001b[0m \u001b[0mlen\u001b[0m\u001b[0;34m(\u001b[0m\u001b[0mobj\u001b[0m\u001b[0;34m,\u001b[0m \u001b[0;34m/\u001b[0m\u001b[0;34m)\u001b[0m\u001b[0;34m\u001b[0m\u001b[0;34m\u001b[0m\u001b[0m\n",
       "\u001b[0;31mDocstring:\u001b[0m Return the number of items in a container.\n",
       "\u001b[0;31mType:\u001b[0m      builtin_function_or_method\n"
      ]
     },
     "metadata": {},
     "output_type": "display_data"
    }
   ],
   "source": [
    "?len"
   ]
  },
  {
   "cell_type": "code",
   "execution_count": 7,
   "id": "9ce23c60-5b04-47bf-9610-5101a4b8e598",
   "metadata": {},
   "outputs": [
    {
     "data": {
      "text/plain": [
       "\u001b[0;31mSignature:\u001b[0m \u001b[0mgreetUser\u001b[0m\u001b[0;34m(\u001b[0m\u001b[0mname\u001b[0m\u001b[0;34m)\u001b[0m\u001b[0;34m\u001b[0m\u001b[0;34m\u001b[0m\u001b[0m\n",
       "\u001b[0;31mDocstring:\u001b[0m <no docstring>\n",
       "\u001b[0;31mFile:\u001b[0m      /tmp/ipykernel_107/577484844.py\n",
       "\u001b[0;31mType:\u001b[0m      function\n"
      ]
     },
     "metadata": {},
     "output_type": "display_data"
    }
   ],
   "source": [
    "?greetUser"
   ]
  },
  {
   "cell_type": "code",
   "execution_count": 8,
   "id": "ebc48367-555f-4111-9934-98585fe36984",
   "metadata": {},
   "outputs": [],
   "source": [
    "# Simple Function that greets the user with docstring\n",
    "\n",
    "def greetUser(name):\n",
    "    '''\n",
    "    Author: Prashant N\n",
    "    \n",
    "    This function is used to greet user with Hello.\n",
    "    \n",
    "    Usage: greetUser(\"Alex\")\n",
    "    Returns: Hello Alex\n",
    "    \n",
    "    '''\n",
    "    print(\"Hello \",name)"
   ]
  },
  {
   "cell_type": "code",
   "execution_count": 9,
   "id": "f632b927-fd29-4c07-be94-85edcab8ea26",
   "metadata": {},
   "outputs": [
    {
     "data": {
      "text/plain": [
       "\u001b[0;31mSignature:\u001b[0m \u001b[0mgreetUser\u001b[0m\u001b[0;34m(\u001b[0m\u001b[0mname\u001b[0m\u001b[0;34m)\u001b[0m\u001b[0;34m\u001b[0m\u001b[0;34m\u001b[0m\u001b[0m\n",
       "\u001b[0;31mDocstring:\u001b[0m\n",
       "Author: Prashant N\n",
       "\n",
       "This function is used to greet user with Hello.\n",
       "\n",
       "Usage: greetUser(\"Alex\")\n",
       "Returns: Hello Alex\n",
       "\u001b[0;31mFile:\u001b[0m      /tmp/ipykernel_107/2288421473.py\n",
       "\u001b[0;31mType:\u001b[0m      function\n"
      ]
     },
     "metadata": {},
     "output_type": "display_data"
    }
   ],
   "source": [
    "?greetUser"
   ]
  },
  {
   "cell_type": "code",
   "execution_count": 10,
   "id": "9a06f00f-bb4e-4add-aced-c03eaa4839da",
   "metadata": {},
   "outputs": [
    {
     "name": "stdout",
     "output_type": "stream",
     "text": [
      "Help on function greetUser in module __main__:\n",
      "\n",
      "greetUser(name)\n",
      "    Author: Prashant N\n",
      "    \n",
      "    This function is used to greet user with Hello.\n",
      "    \n",
      "    Usage: greetUser(\"Alex\")\n",
      "    Returns: Hello Alex\n",
      "\n"
     ]
    }
   ],
   "source": [
    "# ? is only applicable for code interpretors like Jupyter Notebook. IPython shell etc.\n",
    "# help() --- incase you need to perform the same in IDE\n",
    "\n",
    "help(greetUser)"
   ]
  },
  {
   "cell_type": "code",
   "execution_count": 11,
   "id": "64311bb6-4e31-415d-8816-641f57c49f90",
   "metadata": {},
   "outputs": [
    {
     "name": "stdout",
     "output_type": "stream",
     "text": [
      "Help on built-in function len in module builtins:\n",
      "\n",
      "len(obj, /)\n",
      "    Return the number of items in a container.\n",
      "\n"
     ]
    }
   ],
   "source": [
    "help(len)"
   ]
  },
  {
   "cell_type": "code",
   "execution_count": 12,
   "id": "0cf9c701-9a1b-4662-8fe9-25147efd8a4c",
   "metadata": {},
   "outputs": [
    {
     "name": "stdout",
     "output_type": "stream",
     "text": [
      "Hello  Alex\n"
     ]
    }
   ],
   "source": [
    "testVariable1 = greetUser(\"Alex\")"
   ]
  },
  {
   "cell_type": "code",
   "execution_count": 13,
   "id": "b2df336d-efbc-443d-87ff-160b94cde060",
   "metadata": {},
   "outputs": [
    {
     "name": "stdout",
     "output_type": "stream",
     "text": [
      "None\n"
     ]
    }
   ],
   "source": [
    "print(testVariable1)"
   ]
  },
  {
   "cell_type": "code",
   "execution_count": 14,
   "id": "bada3614-6e0a-442e-b851-6ee5dca5cf12",
   "metadata": {},
   "outputs": [],
   "source": [
    "# Function That Returns a Value ------------ keyword \"return\"\n",
    "\n",
    "# Function to perform addition of two numbers\n",
    "\n",
    "def addNumbers(num1,num2):\n",
    "    result = num1 + num2\n",
    "    return result"
   ]
  },
  {
   "cell_type": "code",
   "execution_count": 16,
   "id": "19d78e92-d2ff-42b5-af5b-f1a432859088",
   "metadata": {},
   "outputs": [],
   "source": [
    "resultOfAdd = addNumbers(5,6)"
   ]
  },
  {
   "cell_type": "code",
   "execution_count": 17,
   "id": "6f5a21be-75f8-4f26-9c49-e67490b4fdcd",
   "metadata": {},
   "outputs": [
    {
     "name": "stdout",
     "output_type": "stream",
     "text": [
      "11\n"
     ]
    }
   ],
   "source": [
    "print(resultOfAdd)"
   ]
  },
  {
   "cell_type": "code",
   "execution_count": 18,
   "id": "277016d5-a90e-48ae-92ef-e933719bb66f",
   "metadata": {},
   "outputs": [],
   "source": [
    "# Function that check if the given number is even\n",
    "\n",
    "def evenCheck(num):\n",
    "    return num % 2 == 0"
   ]
  },
  {
   "cell_type": "code",
   "execution_count": 19,
   "id": "82b7ebea-cb8c-4a86-af40-274f9b8f1c01",
   "metadata": {},
   "outputs": [
    {
     "data": {
      "text/plain": [
       "True"
      ]
     },
     "execution_count": 19,
     "metadata": {},
     "output_type": "execute_result"
    }
   ],
   "source": [
    "evenCheck(2)"
   ]
  },
  {
   "cell_type": "code",
   "execution_count": 20,
   "id": "112a9236-45fe-4e36-be43-6911de684a31",
   "metadata": {},
   "outputs": [
    {
     "data": {
      "text/plain": [
       "False"
      ]
     },
     "execution_count": 20,
     "metadata": {},
     "output_type": "execute_result"
    }
   ],
   "source": [
    "evenCheck(3)"
   ]
  },
  {
   "cell_type": "code",
   "execution_count": 22,
   "id": "eec649c7-6750-4f5f-acd2-5496396dfd99",
   "metadata": {},
   "outputs": [
    {
     "ename": "TypeError",
     "evalue": "addNumbers() missing 1 required positional argument: 'num2'",
     "output_type": "error",
     "traceback": [
      "\u001b[0;31m---------------------------------------------------------------------------\u001b[0m",
      "\u001b[0;31mTypeError\u001b[0m                                 Traceback (most recent call last)",
      "\u001b[0;32m/tmp/ipykernel_107/3255835054.py\u001b[0m in \u001b[0;36m<cell line: 1>\u001b[0;34m()\u001b[0m\n\u001b[0;32m----> 1\u001b[0;31m \u001b[0maddNumbers\u001b[0m\u001b[0;34m(\u001b[0m\u001b[0;36m5\u001b[0m\u001b[0;34m)\u001b[0m\u001b[0;34m\u001b[0m\u001b[0;34m\u001b[0m\u001b[0m\n\u001b[0m",
      "\u001b[0;31mTypeError\u001b[0m: addNumbers() missing 1 required positional argument: 'num2'"
     ]
    }
   ],
   "source": [
    "addNumbers(5)"
   ]
  },
  {
   "cell_type": "code",
   "execution_count": 23,
   "id": "7dd42397-f23c-4169-855e-ed39640ca42f",
   "metadata": {},
   "outputs": [
    {
     "data": {
      "text/plain": [
       "\u001b[0;31mSignature:\u001b[0m \u001b[0maddNumbers\u001b[0m\u001b[0;34m(\u001b[0m\u001b[0mnum1\u001b[0m\u001b[0;34m,\u001b[0m \u001b[0mnum2\u001b[0m\u001b[0;34m)\u001b[0m\u001b[0;34m\u001b[0m\u001b[0;34m\u001b[0m\u001b[0m\n",
       "\u001b[0;31mDocstring:\u001b[0m <no docstring>\n",
       "\u001b[0;31mFile:\u001b[0m      /tmp/ipykernel_107/493866224.py\n",
       "\u001b[0;31mType:\u001b[0m      function\n"
      ]
     },
     "metadata": {},
     "output_type": "display_data"
    }
   ],
   "source": [
    "?addNumbers"
   ]
  },
  {
   "cell_type": "code",
   "execution_count": 25,
   "id": "ba96c4e4-da42-42d3-b0ad-9c88c6b9fde1",
   "metadata": {},
   "outputs": [],
   "source": [
    "# Function with default parameters\n",
    "\n",
    "def addNumberReturns(num1=0,num2=0):\n",
    "    return num1+num2"
   ]
  },
  {
   "cell_type": "code",
   "execution_count": 26,
   "id": "14347fd4-e54e-4125-83fd-5ce3c7e17f02",
   "metadata": {},
   "outputs": [
    {
     "data": {
      "text/plain": [
       "0"
      ]
     },
     "execution_count": 26,
     "metadata": {},
     "output_type": "execute_result"
    }
   ],
   "source": [
    "addNumberReturns()"
   ]
  },
  {
   "cell_type": "code",
   "execution_count": 27,
   "id": "a8a58ef7-56ed-43b1-a8fe-6088b3d91641",
   "metadata": {},
   "outputs": [
    {
     "data": {
      "text/plain": [
       "3"
      ]
     },
     "execution_count": 27,
     "metadata": {},
     "output_type": "execute_result"
    }
   ],
   "source": [
    "addNumberReturns(3)"
   ]
  },
  {
   "cell_type": "code",
   "execution_count": 28,
   "id": "b41711f4-9322-41f6-87e5-b6f49e437531",
   "metadata": {},
   "outputs": [],
   "source": [
    "def addNumberReturns(num1,num2=0):\n",
    "    return num1+num2"
   ]
  },
  {
   "cell_type": "code",
   "execution_count": 29,
   "id": "28174daa-0bb1-4ee8-a2c9-d2157f15f249",
   "metadata": {},
   "outputs": [
    {
     "data": {
      "text/plain": [
       "5"
      ]
     },
     "execution_count": 29,
     "metadata": {},
     "output_type": "execute_result"
    }
   ],
   "source": [
    "addNumberReturns(5)"
   ]
  },
  {
   "cell_type": "code",
   "execution_count": 30,
   "id": "3e23abe1-db77-4bb1-8f96-06a4a4010912",
   "metadata": {},
   "outputs": [
    {
     "ename": "TypeError",
     "evalue": "addNumberReturns() missing 1 required positional argument: 'num1'",
     "output_type": "error",
     "traceback": [
      "\u001b[0;31m---------------------------------------------------------------------------\u001b[0m",
      "\u001b[0;31mTypeError\u001b[0m                                 Traceback (most recent call last)",
      "\u001b[0;32m/tmp/ipykernel_107/3549788427.py\u001b[0m in \u001b[0;36m<cell line: 1>\u001b[0;34m()\u001b[0m\n\u001b[0;32m----> 1\u001b[0;31m \u001b[0maddNumberReturns\u001b[0m\u001b[0;34m(\u001b[0m\u001b[0;34m)\u001b[0m\u001b[0;34m\u001b[0m\u001b[0;34m\u001b[0m\u001b[0m\n\u001b[0m",
      "\u001b[0;31mTypeError\u001b[0m: addNumberReturns() missing 1 required positional argument: 'num1'"
     ]
    }
   ],
   "source": [
    "addNumberReturns()"
   ]
  },
  {
   "cell_type": "code",
   "execution_count": null,
   "id": "b863ee9f-623f-420d-8892-12138ada3fa7",
   "metadata": {},
   "outputs": [],
   "source": []
  }
 ],
 "metadata": {
  "kernelspec": {
   "display_name": "Python 3 [3.10]",
   "language": "python",
   "name": "python3"
  },
  "language_info": {
   "codemirror_mode": {
    "name": "ipython",
    "version": 3
   },
   "file_extension": ".py",
   "mimetype": "text/x-python",
   "name": "python",
   "nbconvert_exporter": "python",
   "pygments_lexer": "ipython3",
   "version": "3.10.2"
  }
 },
 "nbformat": 4,
 "nbformat_minor": 5
}
