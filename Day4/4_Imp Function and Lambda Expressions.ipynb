{
 "cells": [
  {
   "cell_type": "code",
   "execution_count": 1,
   "id": "ecd2a9a2-0bb7-442d-b1c7-40539d9310a4",
   "metadata": {},
   "outputs": [],
   "source": [
    "# map and filter\n",
    "# map function\n",
    "#\n",
    "# This allows you to map a function into an interable object\n",
    "#\n",
    "\n"
   ]
  },
  {
   "cell_type": "code",
   "execution_count": 2,
   "id": "c81db23e-6855-4aa5-8008-c9a84b2780c7",
   "metadata": {},
   "outputs": [],
   "source": [
    "def square(num):\n",
    "    return num * num"
   ]
  },
  {
   "cell_type": "code",
   "execution_count": 3,
   "id": "a9683b87-a110-48fd-972b-a5a0926be050",
   "metadata": {},
   "outputs": [
    {
     "data": {
      "text/plain": [
       "[1, 4, 9, 16, 25]"
      ]
     },
     "execution_count": 3,
     "metadata": {},
     "output_type": "execute_result"
    }
   ],
   "source": [
    "list1 = [1,2,3,4,5]\n",
    "result = []\n",
    "for num in list1:\n",
    "    result.append(num*num)\n",
    "    \n",
    "result"
   ]
  },
  {
   "cell_type": "code",
   "execution_count": 5,
   "id": "b250ce5a-4660-4f78-a58a-5a791118ad0b",
   "metadata": {},
   "outputs": [
    {
     "data": {
      "text/plain": [
       "[1, 4, 9, 16, 25]"
      ]
     },
     "execution_count": 5,
     "metadata": {},
     "output_type": "execute_result"
    }
   ],
   "source": [
    "# Syntax : map(functionLogic , collectionList)\n",
    "list(map(square,list1))"
   ]
  },
  {
   "cell_type": "code",
   "execution_count": 6,
   "id": "48b4589a-2dbe-41c0-814f-0f851fa0b263",
   "metadata": {},
   "outputs": [
    {
     "data": {
      "text/plain": [
       "[2, 4, 6, 8, 10]"
      ]
     },
     "execution_count": 6,
     "metadata": {},
     "output_type": "execute_result"
    }
   ],
   "source": [
    "# Filter Method\n",
    "def evenNumberCheck(num):\n",
    "    return num % 2 == 0\n",
    "\n",
    "list2=[1,2,3,4,5,6,7,8,9,10]\n",
    "\n",
    "list(filter(evenNumberCheck,list2))"
   ]
  },
  {
   "cell_type": "code",
   "execution_count": 7,
   "id": "364726ee-0797-4eac-b2b3-85d967a71a21",
   "metadata": {},
   "outputs": [],
   "source": [
    "# Lambda Expression | Lambda Statement\n",
    "#\n",
    "# Lambda expression allow us to create ANONYMOUS FUNCTIONS"
   ]
  },
  {
   "cell_type": "code",
   "execution_count": 8,
   "id": "4e50aa57-e48a-484b-9d65-f3dc676e8c7c",
   "metadata": {},
   "outputs": [],
   "source": [
    "def square(num):\n",
    "    return num * num"
   ]
  },
  {
   "cell_type": "code",
   "execution_count": 9,
   "id": "15a27221-9948-44a6-a3a1-3b88c6103390",
   "metadata": {},
   "outputs": [],
   "source": [
    "#Syntax: lambda parameters: return statement\n",
    "\n",
    "mysquareLambda = lambda num: num * num"
   ]
  },
  {
   "cell_type": "code",
   "execution_count": 10,
   "id": "932c3a79-79ad-4e55-a155-cf55f97f0a0a",
   "metadata": {},
   "outputs": [
    {
     "data": {
      "text/plain": [
       "function"
      ]
     },
     "execution_count": 10,
     "metadata": {},
     "output_type": "execute_result"
    }
   ],
   "source": [
    "type(mysquareLambda)"
   ]
  },
  {
   "cell_type": "code",
   "execution_count": 11,
   "id": "a7e9be45-4326-4fae-8f2b-f32063ec5c52",
   "metadata": {},
   "outputs": [
    {
     "data": {
      "text/plain": [
       "81"
      ]
     },
     "execution_count": 11,
     "metadata": {},
     "output_type": "execute_result"
    }
   ],
   "source": [
    "mysquareLambda(9)"
   ]
  },
  {
   "cell_type": "code",
   "execution_count": 12,
   "id": "3436c655-c675-4380-8f18-09c0ef24bd4e",
   "metadata": {},
   "outputs": [
    {
     "data": {
      "text/plain": [
       "[1, 4, 9, 16, 25]"
      ]
     },
     "execution_count": 12,
     "metadata": {},
     "output_type": "execute_result"
    }
   ],
   "source": [
    "#Applying Lambda Expression on map and filter\n",
    "\n",
    "list(map(lambda num: num*num , list1))"
   ]
  },
  {
   "cell_type": "code",
   "execution_count": 13,
   "id": "853020b2-0cb4-4553-9d23-a2de832cf379",
   "metadata": {},
   "outputs": [
    {
     "data": {
      "text/plain": [
       "[2, 4]"
      ]
     },
     "execution_count": 13,
     "metadata": {},
     "output_type": "execute_result"
    }
   ],
   "source": [
    "list(filter(lambda num: num%2==0 , list1))"
   ]
  },
  {
   "cell_type": "code",
   "execution_count": 14,
   "id": "086d967c-2deb-43ec-bc7c-64ddae7f8f49",
   "metadata": {},
   "outputs": [],
   "source": [
    "#lambda Expression with multiple arguments\n",
    "\n",
    "def add(num1,num2):\n",
    "    return num1 + num2"
   ]
  },
  {
   "cell_type": "code",
   "execution_count": 15,
   "id": "2e5205b5-5331-4df5-a80d-1c72a3df2a4e",
   "metadata": {},
   "outputs": [
    {
     "data": {
      "text/plain": [
       "5"
      ]
     },
     "execution_count": 15,
     "metadata": {},
     "output_type": "execute_result"
    }
   ],
   "source": [
    "addLambda = lambda num1,num2 : num1 + num2\n",
    "addLambda(2,3)"
   ]
  },
  {
   "cell_type": "code",
   "execution_count": null,
   "id": "60f226b2-f48f-4392-94e2-e064f839463c",
   "metadata": {},
   "outputs": [],
   "source": []
  }
 ],
 "metadata": {
  "kernelspec": {
   "display_name": "Python 3 [3.10]",
   "language": "python",
   "name": "python3"
  },
  "language_info": {
   "codemirror_mode": {
    "name": "ipython",
    "version": 3
   },
   "file_extension": ".py",
   "mimetype": "text/x-python",
   "name": "python",
   "nbconvert_exporter": "python",
   "pygments_lexer": "ipython3",
   "version": "3.10.2"
  }
 },
 "nbformat": 4,
 "nbformat_minor": 5
}
